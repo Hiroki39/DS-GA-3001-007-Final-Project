{
 "cells": [
  {
   "cell_type": "markdown",
   "metadata": {},
   "source": [
    "## Notes\n",
    "忽略Keras RL的部分。Stable-baselines在下面  \n",
    "这个现在用的是gym 0.26.2, 在monitor.py里有一个return的问题可能需要更改return的value数量才能兼容  \n",
    "PPO感觉挺好的，在只120步的时候可以超过random选择的return。DQN在训练120步的时候不行。"
   ]
  },
  {
   "cell_type": "markdown",
   "metadata": {},
   "source": [
    "## Keras RL DQN"
   ]
  },
  {
   "cell_type": "code",
   "execution_count": 1,
   "metadata": {},
   "outputs": [
    {
     "name": "stdout",
     "output_type": "stream",
     "text": [
      "Obtaining file:///gpfs/data/oermannlab/users/hz2212/DS-GA%203001-007/disneyenv\n",
      "  Preparing metadata (setup.py) ... \u001b[?25ldone\n",
      "\u001b[?25hInstalling collected packages: disneyenv\n",
      "  Attempting uninstall: disneyenv\n",
      "    Found existing installation: disneyenv 0.0.1\n",
      "    Uninstalling disneyenv-0.0.1:\n",
      "      Successfully uninstalled disneyenv-0.0.1\n",
      "  Running setup.py develop for disneyenv\n",
      "Successfully installed disneyenv-0.0.1\n"
     ]
    }
   ],
   "source": [
    "!pip install -e disneyenv\n"
   ]
  },
  {
   "cell_type": "code",
   "execution_count": 2,
   "metadata": {},
   "outputs": [
    {
     "name": "stderr",
     "output_type": "stream",
     "text": [
      "/gpfs/data/oermannlab/users/hz2212/DS-GA 3001-007/disneyenv/disneyenv/envs/disney.py:42: DtypeWarning: Columns (3) have mixed types. Specify dtype option on import or set low_memory=False.\n",
      "  self.waittime = pd.read_csv(\n"
     ]
    },
    {
     "ename": "AssertionError",
     "evalue": "action space does not inherit from `gymnasium.spaces.Space`, actual type: <class 'gym.spaces.discrete.Discrete'>",
     "output_type": "error",
     "traceback": [
      "\u001b[0;31m---------------------------------------------------------------------------\u001b[0m",
      "\u001b[0;31mAssertionError\u001b[0m                            Traceback (most recent call last)",
      "Cell \u001b[0;32mIn[2], line 4\u001b[0m\n\u001b[1;32m      1\u001b[0m \u001b[38;5;28;01mimport\u001b[39;00m \u001b[38;5;21;01mgymnasium\u001b[39;00m \u001b[38;5;28;01mas\u001b[39;00m \u001b[38;5;21;01mgym\u001b[39;00m\n\u001b[1;32m      2\u001b[0m \u001b[38;5;28;01mimport\u001b[39;00m \u001b[38;5;21;01mdisneyenv\u001b[39;00m\n\u001b[0;32m----> 4\u001b[0m env \u001b[38;5;241m=\u001b[39m \u001b[43mgym\u001b[49m\u001b[38;5;241;43m.\u001b[39;49m\u001b[43mmake\u001b[49m\u001b[43m(\u001b[49m\u001b[38;5;124;43m'\u001b[39;49m\u001b[38;5;124;43mdisneyenv/Disney-v0\u001b[39;49m\u001b[38;5;124;43m'\u001b[39;49m\u001b[43m)\u001b[49m\n",
      "File \u001b[0;32m~/.conda/envs/ds3001-007/lib/python3.10/site-packages/gymnasium/envs/registration.py:669\u001b[0m, in \u001b[0;36mmake\u001b[0;34m(id, max_episode_steps, autoreset, apply_api_compatibility, disable_env_checker, **kwargs)\u001b[0m\n\u001b[1;32m    665\u001b[0m \u001b[38;5;66;03m# Run the environment checker as the lowest level wrapper\u001b[39;00m\n\u001b[1;32m    666\u001b[0m \u001b[38;5;28;01mif\u001b[39;00m disable_env_checker \u001b[38;5;129;01mis\u001b[39;00m \u001b[38;5;28;01mFalse\u001b[39;00m \u001b[38;5;129;01mor\u001b[39;00m (\n\u001b[1;32m    667\u001b[0m     disable_env_checker \u001b[38;5;129;01mis\u001b[39;00m \u001b[38;5;28;01mNone\u001b[39;00m \u001b[38;5;129;01mand\u001b[39;00m spec_\u001b[38;5;241m.\u001b[39mdisable_env_checker \u001b[38;5;129;01mis\u001b[39;00m \u001b[38;5;28;01mFalse\u001b[39;00m\n\u001b[1;32m    668\u001b[0m ):\n\u001b[0;32m--> 669\u001b[0m     env \u001b[38;5;241m=\u001b[39m \u001b[43mPassiveEnvChecker\u001b[49m\u001b[43m(\u001b[49m\u001b[43menv\u001b[49m\u001b[43m)\u001b[49m\n\u001b[1;32m    671\u001b[0m \u001b[38;5;66;03m# Add the order enforcing wrapper\u001b[39;00m\n\u001b[1;32m    672\u001b[0m \u001b[38;5;28;01mif\u001b[39;00m spec_\u001b[38;5;241m.\u001b[39morder_enforce:\n",
      "File \u001b[0;32m~/.conda/envs/ds3001-007/lib/python3.10/site-packages/gymnasium/wrappers/env_checker.py:23\u001b[0m, in \u001b[0;36mPassiveEnvChecker.__init__\u001b[0;34m(self, env)\u001b[0m\n\u001b[1;32m     18\u001b[0m \u001b[38;5;28msuper\u001b[39m()\u001b[38;5;241m.\u001b[39m\u001b[38;5;21m__init__\u001b[39m(env)\n\u001b[1;32m     20\u001b[0m \u001b[38;5;28;01massert\u001b[39;00m \u001b[38;5;28mhasattr\u001b[39m(\n\u001b[1;32m     21\u001b[0m     env, \u001b[38;5;124m\"\u001b[39m\u001b[38;5;124maction_space\u001b[39m\u001b[38;5;124m\"\u001b[39m\n\u001b[1;32m     22\u001b[0m ), \u001b[38;5;124m\"\u001b[39m\u001b[38;5;124mThe environment must specify an action space. https://gymnasium.farama.org/content/environment_creation/\u001b[39m\u001b[38;5;124m\"\u001b[39m\n\u001b[0;32m---> 23\u001b[0m \u001b[43mcheck_action_space\u001b[49m\u001b[43m(\u001b[49m\u001b[43menv\u001b[49m\u001b[38;5;241;43m.\u001b[39;49m\u001b[43maction_space\u001b[49m\u001b[43m)\u001b[49m\n\u001b[1;32m     24\u001b[0m \u001b[38;5;28;01massert\u001b[39;00m \u001b[38;5;28mhasattr\u001b[39m(\n\u001b[1;32m     25\u001b[0m     env, \u001b[38;5;124m\"\u001b[39m\u001b[38;5;124mobservation_space\u001b[39m\u001b[38;5;124m\"\u001b[39m\n\u001b[1;32m     26\u001b[0m ), \u001b[38;5;124m\"\u001b[39m\u001b[38;5;124mThe environment must specify an observation space. https://gymnasium.farama.org/content/environment_creation/\u001b[39m\u001b[38;5;124m\"\u001b[39m\n\u001b[1;32m     27\u001b[0m check_observation_space(env\u001b[38;5;241m.\u001b[39mobservation_space)\n",
      "File \u001b[0;32m~/.conda/envs/ds3001-007/lib/python3.10/site-packages/gymnasium/utils/passive_env_checker.py:74\u001b[0m, in \u001b[0;36mcheck_space\u001b[0;34m(space, space_type, check_box_space_fn)\u001b[0m\n\u001b[1;32m     72\u001b[0m \u001b[38;5;124;03m\"\"\"A passive check of the environment action space that should not affect the environment.\"\"\"\u001b[39;00m\n\u001b[1;32m     73\u001b[0m \u001b[38;5;28;01mif\u001b[39;00m \u001b[38;5;129;01mnot\u001b[39;00m \u001b[38;5;28misinstance\u001b[39m(space, spaces\u001b[38;5;241m.\u001b[39mSpace):\n\u001b[0;32m---> 74\u001b[0m     \u001b[38;5;28;01mraise\u001b[39;00m \u001b[38;5;167;01mAssertionError\u001b[39;00m(\n\u001b[1;32m     75\u001b[0m         \u001b[38;5;124mf\u001b[39m\u001b[38;5;124m\"\u001b[39m\u001b[38;5;132;01m{\u001b[39;00mspace_type\u001b[38;5;132;01m}\u001b[39;00m\u001b[38;5;124m space does not inherit from `gymnasium.spaces.Space`, actual type: \u001b[39m\u001b[38;5;132;01m{\u001b[39;00m\u001b[38;5;28mtype\u001b[39m(space)\u001b[38;5;132;01m}\u001b[39;00m\u001b[38;5;124m\"\u001b[39m\n\u001b[1;32m     76\u001b[0m     )\n\u001b[1;32m     78\u001b[0m \u001b[38;5;28;01melif\u001b[39;00m \u001b[38;5;28misinstance\u001b[39m(space, spaces\u001b[38;5;241m.\u001b[39mBox):\n\u001b[1;32m     79\u001b[0m     check_box_space_fn(space)\n",
      "\u001b[0;31mAssertionError\u001b[0m: action space does not inherit from `gymnasium.spaces.Space`, actual type: <class 'gym.spaces.discrete.Discrete'>"
     ]
    }
   ],
   "source": [
    "import gymnasium as gym\n",
    "import disneyenv\n",
    "\n",
    "env = gym.make('disneyenv/Disney-v0') \n"
   ]
  },
  {
   "cell_type": "code",
   "execution_count": null,
   "metadata": {},
   "outputs": [],
   "source": [
    "import numpy as np\n",
    "import pandas as pd"
   ]
  },
  {
   "cell_type": "code",
   "execution_count": 3,
   "metadata": {},
   "outputs": [],
   "source": [
    "from tensorflow.keras.models import Sequential\n",
    "from tensorflow.keras.layers import Dense, Flatten,Input,Dropout,Reshape\n",
    "from tensorflow.keras.optimizers import Adam\n",
    "\n",
    "from rl.agents import DQNAgent\n",
    "from rl.memory import SequentialMemory\n",
    "from rl.policy import LinearAnnealedPolicy, EpsGreedyQPolicy"
   ]
  },
  {
   "cell_type": "code",
   "execution_count": 4,
   "metadata": {},
   "outputs": [],
   "source": [
    "def build_model(input_shape, output_shape):\n",
    "    model = Sequential([\n",
    "        Dense(512,activation=\"relu\",input_shape = (1,input_shape)),\n",
    "        Dropout(0.2),\n",
    "        Flatten(),\n",
    "        Dense(256,activation = \"relu\"),\n",
    "        Dropout(0.2),\n",
    "        Dense(128,activation = \"relu\"),\n",
    "        Dense(64,activation = \"relu\"),\n",
    "        Dense(output_shape,activation = \"linear\"),\n",
    "        Flatten()\n",
    "    ])\n",
    "    model.summary()\n",
    "    return model"
   ]
  },
  {
   "cell_type": "code",
   "execution_count": 5,
   "metadata": {},
   "outputs": [],
   "source": [
    "def build_agent(model, actions):\n",
    "    policy = LinearAnnealedPolicy(EpsGreedyQPolicy(), attr='eps', value_max=1., value_min=.1, value_test=.2, nb_steps=10000)\n",
    "    memory = SequentialMemory(limit=2000,window_length = 1)\n",
    "    dqn = DQNAgent(model=model, memory=memory, policy=policy,\n",
    "                  enable_dueling_network=True, dueling_type='avg',\n",
    "                  nb_actions=actions, nb_steps_warmup=10)\n",
    "    return dqn"
   ]
  },
  {
   "cell_type": "code",
   "execution_count": 6,
   "metadata": {},
   "outputs": [
    {
     "name": "stdout",
     "output_type": "stream",
     "text": [
      "Model: \"sequential\"\n",
      "_________________________________________________________________\n",
      " Layer (type)                Output Shape              Param #   \n",
      "=================================================================\n",
      " dense (Dense)               (None, 1, 512)            118784    \n",
      "                                                                 \n",
      " dropout (Dropout)           (None, 1, 512)            0         \n",
      "                                                                 \n",
      " flatten (Flatten)           (None, 512)               0         \n",
      "                                                                 \n",
      " dense_1 (Dense)             (None, 256)               131328    \n",
      "                                                                 \n",
      " dropout_1 (Dropout)         (None, 256)               0         \n",
      "                                                                 \n",
      " dense_2 (Dense)             (None, 128)               32896     \n",
      "                                                                 \n",
      " dense_3 (Dense)             (None, 64)                8256      \n",
      "                                                                 \n",
      " dense_4 (Dense)             (None, 106)               6890      \n",
      "                                                                 \n",
      " flatten_1 (Flatten)         (None, 106)               0         \n",
      "                                                                 \n",
      "=================================================================\n",
      "Total params: 298,154\n",
      "Trainable params: 298,154\n",
      "Non-trainable params: 0\n",
      "_________________________________________________________________\n"
     ]
    }
   ],
   "source": [
    "model = build_model(env.observation_space.n,env.action_space.n)\n",
    "dqn_agent = build_agent(model,env.action_space.n)"
   ]
  },
  {
   "cell_type": "code",
   "execution_count": 7,
   "metadata": {},
   "outputs": [],
   "source": [
    "dqn_agent.compile(Adam(learning_rate=0.001))"
   ]
  },
  {
   "cell_type": "code",
   "execution_count": 8,
   "metadata": {},
   "outputs": [
    {
     "name": "stdout",
     "output_type": "stream",
     "text": [
      "Training for 1000 steps ...\n"
     ]
    },
    {
     "name": "stderr",
     "output_type": "stream",
     "text": [
      "c:\\Users\\82751\\anaconda3\\envs\\my_environment\\lib\\site-packages\\gymnasium\\utils\\passive_env_checker.py:174: UserWarning: \u001b[33mWARN: Future gymnasium versions will require that `Env.reset` can be passed a `seed` instead of using `Env.seed` for resetting the environment random number generator.\u001b[0m\n",
      "  logger.warn(\n",
      "c:\\Users\\82751\\anaconda3\\envs\\my_environment\\lib\\site-packages\\gymnasium\\utils\\passive_env_checker.py:187: UserWarning: \u001b[33mWARN: Future gymnasium versions will require that `Env.reset` can be passed `options` to allow the environment initialisation to be passed additional information.\u001b[0m\n",
      "  logger.warn(\n"
     ]
    },
    {
     "name": "stdout",
     "output_type": "stream",
     "text": [
      "A new day! Today is 2018-7-26\n",
      "Interval 1 (0 steps performed)\n"
     ]
    },
    {
     "name": "stderr",
     "output_type": "stream",
     "text": [
      "c:\\Users\\82751\\anaconda3\\envs\\my_environment\\lib\\site-packages\\gymnasium\\utils\\passive_env_checker.py:195: UserWarning: \u001b[33mWARN: The result returned by `env.reset()` was not a tuple of the form `(obs, info)`, where `obs` is a observation and `info` is a dictionary containing additional information. Actual type: `<class 'numpy.ndarray'>`\u001b[0m\n",
      "  logger.warn(\n",
      "c:\\Users\\82751\\anaconda3\\envs\\my_environment\\lib\\site-packages\\keras\\engine\\training_v1.py:2356: UserWarning: `Model.state_updates` will be removed in a future version. This property should not be used in TensorFlow 2.0, as `updates` are applied automatically.\n",
      "  updates=self.state_updates,\n"
     ]
    },
    {
     "name": "stdout",
     "output_type": "stream",
     "text": [
      "    1/10000 [..............................] - ETA: 1:21:38 - reward: 1.0000"
     ]
    },
    {
     "name": "stderr",
     "output_type": "stream",
     "text": [
      "c:\\Users\\82751\\anaconda3\\envs\\my_environment\\lib\\site-packages\\gymnasium\\utils\\passive_env_checker.py:133: UserWarning: \u001b[33mWARN: The obs returned by the `step()` method should be an int or np.int64, actual type: <class 'numpy.ndarray'>\u001b[0m\n",
      "  logger.warn(f\"{pre} should be an int or np.int64, actual type: {type(obs)}\")\n",
      "c:\\Users\\82751\\anaconda3\\envs\\my_environment\\lib\\site-packages\\gymnasium\\utils\\passive_env_checker.py:165: UserWarning: \u001b[33mWARN: The obs returned by the `step()` method is not within the observation space.\u001b[0m\n",
      "  logger.warn(f\"{pre} is not within the observation space.\")\n"
     ]
    },
    {
     "name": "stdout",
     "output_type": "stream",
     "text": [
      "   11/10000 [..............................] - ETA: 46:40 - reward: -35.2727"
     ]
    },
    {
     "name": "stderr",
     "output_type": "stream",
     "text": [
      "c:\\Users\\82751\\anaconda3\\envs\\my_environment\\lib\\site-packages\\rl\\memory.py:37: UserWarning: Not enough entries to sample without replacement. Consider increasing your warm-up phase to avoid oversampling!\n",
      "  warnings.warn('Not enough entries to sample without replacement. Consider increasing your warm-up phase to avoid oversampling!')\n"
     ]
    },
    {
     "name": "stdout",
     "output_type": "stream",
     "text": [
      "   72/10000 [..............................] - ETA: 55:26 - reward: -33.9792A new day! Today is 2017-7-24\n",
      "  119/10000 [..............................] - ETA: 54:14 - reward: -27.1176A new day! Today is 2017-10-23\n",
      "  191/10000 [..............................] - ETA: 53:18 - reward: -30.8901A new day! Today is 2018-4-12\n",
      "  253/10000 [..............................] - ETA: 52:33 - reward: -30.8043A new day! Today is 2018-6-22\n",
      "  307/10000 [..............................] - ETA: 52:05 - reward: -29.1824A new day! Today is 2018-6-20\n",
      "  358/10000 [>.............................] - ETA: 51:42 - reward: -29.3142A new day! Today is 2017-8-6\n",
      "  400/10000 [>.............................] - ETA: 51:25 - reward: -28.6212A new day! Today is 2018-6-28\n",
      "  449/10000 [>.............................] - ETA: 51:04 - reward: -28.3864A new day! Today is 2018-9-12\n",
      "  517/10000 [>.............................] - ETA: 50:21 - reward: -28.9052A new day! Today is 2018-8-21\n",
      "  564/10000 [>.............................] - ETA: 50:03 - reward: -28.6835A new day! Today is 2017-12-26\n",
      "  620/10000 [>.............................] - ETA: 49:50 - reward: -27.9808A new day! Today is 2018-1-4\n",
      "  657/10000 [>.............................] - ETA: 49:42 - reward: -27.4909A new day! Today is 2018-8-20\n",
      "  712/10000 [=>............................] - ETA: 52:03 - reward: -27.5822A new day! Today is 2017-11-24\n",
      "  764/10000 [=>............................] - ETA: 51:18 - reward: -27.3043A new day! Today is 2018-1-9\n",
      "  852/10000 [=>............................] - ETA: 50:37 - reward: -28.6092A new day! Today is 2018-8-7\n",
      "  906/10000 [=>............................] - ETA: 50:10 - reward: -28.6987A new day! Today is 2017-9-15\n",
      "  978/10000 [=>............................] - ETA: 49:39 - reward: -29.1131A new day! Today is 2018-9-14\n",
      " 1000/10000 [==>...........................] - ETA: 49:28 - reward: -29.2526done, took 330.622 seconds\n"
     ]
    },
    {
     "data": {
      "text/plain": [
       "<keras.callbacks.History at 0x27c2d54e850>"
      ]
     },
     "execution_count": 8,
     "metadata": {},
     "output_type": "execute_result"
    }
   ],
   "source": [
    "dqn_agent.fit(env, nb_steps = 1000, visualize = False, verbose = 1) "
   ]
  },
  {
   "cell_type": "markdown",
   "metadata": {},
   "source": [
    "## Stable Baseline3 DQN "
   ]
  },
  {
   "cell_type": "code",
   "execution_count": 1,
   "metadata": {},
   "outputs": [
    {
     "name": "stdout",
     "output_type": "stream",
     "text": [
      "Obtaining file:///gpfs/data/oermannlab/users/hz2212/DS-GA%203001-007/disneyenv\n",
      "  Preparing metadata (setup.py) ... \u001b[?25ldone\n",
      "\u001b[?25hInstalling collected packages: disneyenv\n",
      "  Attempting uninstall: disneyenv\n",
      "    Found existing installation: disneyenv 0.0.1\n",
      "    Uninstalling disneyenv-0.0.1:\n",
      "      Successfully uninstalled disneyenv-0.0.1\n",
      "  Running setup.py develop for disneyenv\n",
      "Successfully installed disneyenv-0.0.1\n"
     ]
    }
   ],
   "source": [
    "!pip install -e disneyenv\n",
    "import disneyenv"
   ]
  },
  {
   "cell_type": "code",
   "execution_count": 2,
   "metadata": {},
   "outputs": [],
   "source": [
    "import gym\n",
    "import torch\n",
    "from stable_baselines3.common.env_util import make_vec_env\n",
    "from stable_baselines3.common.vec_env import DummyVecEnv, SubprocVecEnv\n",
    "from stable_baselines3 import PPO, DQN\n",
    "import numpy as np"
   ]
  },
  {
   "cell_type": "code",
   "execution_count": 3,
   "metadata": {},
   "outputs": [
    {
     "name": "stderr",
     "output_type": "stream",
     "text": [
      "/gpfs/data/oermannlab/users/hz2212/DS-GA 3001-007/disneyenv/disneyenv/envs/disney.py:17: DtypeWarning: Columns (3) have mixed types. Specify dtype option on import or set low_memory=False.\n",
      "  self.waitTime = pd.read_csv(\n"
     ]
    },
    {
     "name": "stdout",
     "output_type": "stream",
     "text": [
      "Using cuda device\n",
      "Wrapping the env with a `Monitor` wrapper\n",
      "Wrapping the env in a DummyVecEnv.\n",
      "waitTime MultiIndex([(  353289, '2018-07-09 08:00:00'),\n",
      "            (  353387, '2018-07-09 08:00:00'),\n",
      "            (  353433, '2018-07-09 08:00:00'),\n",
      "            (  353451, '2018-07-09 08:00:00'),\n",
      "            (  353457, '2018-07-09 08:00:00'),\n",
      "            (17328049, '2018-07-09 08:00:00'),\n",
      "            (18766536, '2018-07-09 08:00:00'),\n",
      "            (18774860, '2018-07-09 08:00:00'),\n",
      "            (18946452, '2018-07-09 08:00:00'),\n",
      "            (  353291, '2018-07-09 08:00:00'),\n",
      "            ...\n",
      "            (18752875, '2018-07-09 08:00:00'),\n",
      "            (18752877, '2018-07-09 08:00:00'),\n",
      "            (18848246, '2018-07-09 08:00:00'),\n",
      "            (18848247, '2018-07-09 08:00:00'),\n",
      "            (16581435, '2018-07-09 08:00:00'),\n",
      "            (17328050, '2018-07-09 08:00:00'),\n",
      "            (18426726, '2018-07-09 08:00:00'),\n",
      "            (18532806, '2018-07-09 08:00:00'),\n",
      "            (18693648, '2018-07-09 08:00:00'),\n",
      "            (18755618, '2018-07-09 08:00:00')],\n",
      "           length=106)\n",
      "weather [datetime.datetime(2018, 7, 9, 8, 0)]\n",
      "A new day! Today is 2018-07-09\n",
      "waitTime MultiIndex([(  353289, '2018-07-09 08:10:00'),\n",
      "            (  353387, '2018-07-09 08:10:00'),\n",
      "            (  353433, '2018-07-09 08:10:00'),\n",
      "            (  353451, '2018-07-09 08:10:00'),\n",
      "            (  353457, '2018-07-09 08:10:00'),\n",
      "            (17328049, '2018-07-09 08:10:00'),\n",
      "            (18766536, '2018-07-09 08:10:00'),\n",
      "            (18774860, '2018-07-09 08:10:00'),\n",
      "            (18946452, '2018-07-09 08:10:00'),\n",
      "            (  353291, '2018-07-09 08:10:00'),\n",
      "            ...\n",
      "            (18752875, '2018-07-09 08:10:00'),\n",
      "            (18752877, '2018-07-09 08:10:00'),\n",
      "            (18848246, '2018-07-09 08:10:00'),\n",
      "            (18848247, '2018-07-09 08:10:00'),\n",
      "            (16581435, '2018-07-09 08:10:00'),\n",
      "            (17328050, '2018-07-09 08:10:00'),\n",
      "            (18426726, '2018-07-09 08:10:00'),\n",
      "            (18532806, '2018-07-09 08:10:00'),\n",
      "            (18693648, '2018-07-09 08:10:00'),\n",
      "            (18755618, '2018-07-09 08:10:00')],\n",
      "           length=106)\n"
     ]
    },
    {
     "name": "stderr",
     "output_type": "stream",
     "text": [
      "/gpfs/data/oermannlab/users/hz2212/.conda/envs/ds3001-007/lib/python3.10/site-packages/pandas/core/indexes/base.py:4083: RuntimeWarning: invalid value encountered in cast\n",
      "  return engine.get_indexer_with_fill(  # type: ignore[union-attr]\n",
      "/gpfs/data/oermannlab/users/hz2212/.conda/envs/ds3001-007/lib/python3.10/site-packages/pandas/core/indexes/base.py:4083: RuntimeWarning: invalid value encountered in cast\n",
      "  return engine.get_indexer_with_fill(  # type: ignore[union-attr]\n"
     ]
    },
    {
     "name": "stdout",
     "output_type": "stream",
     "text": [
      "weather [datetime.datetime(2018, 7, 9, 8, 10)]\n",
      "waitTime MultiIndex([(  353289, '2018-07-09 08:24:25.648114'),\n",
      "            (  353387, '2018-07-09 08:24:25.648114'),\n",
      "            (  353433, '2018-07-09 08:24:25.648114'),\n",
      "            (  353451, '2018-07-09 08:24:25.648114'),\n",
      "            (  353457, '2018-07-09 08:24:25.648114'),\n",
      "            (17328049, '2018-07-09 08:24:25.648114'),\n",
      "            (18766536, '2018-07-09 08:24:25.648114'),\n",
      "            (18774860, '2018-07-09 08:24:25.648114'),\n",
      "            (18946452, '2018-07-09 08:24:25.648114'),\n",
      "            (  353291, '2018-07-09 08:24:25.648114'),\n",
      "            ...\n",
      "            (18752875, '2018-07-09 08:24:25.648114'),\n",
      "            (18752877, '2018-07-09 08:24:25.648114'),\n",
      "            (18848246, '2018-07-09 08:24:25.648114'),\n",
      "            (18848247, '2018-07-09 08:24:25.648114'),\n",
      "            (16581435, '2018-07-09 08:24:25.648114'),\n",
      "            (17328050, '2018-07-09 08:24:25.648114'),\n",
      "            (18426726, '2018-07-09 08:24:25.648114'),\n",
      "            (18532806, '2018-07-09 08:24:25.648114'),\n",
      "            (18693648, '2018-07-09 08:24:25.648114'),\n",
      "            (18755618, '2018-07-09 08:24:25.648114')],\n",
      "           length=106)\n",
      "weather [datetime.datetime(2018, 7, 9, 8, 24, 25, 648114)]\n",
      "waitTime MultiIndex([(  353289, '2018-07-09 08:37:38.200597'),\n",
      "            (  353387, '2018-07-09 08:37:38.200597'),\n",
      "            (  353433, '2018-07-09 08:37:38.200597'),\n",
      "            (  353451, '2018-07-09 08:37:38.200597'),\n",
      "            (  353457, '2018-07-09 08:37:38.200597'),\n",
      "            (17328049, '2018-07-09 08:37:38.200597'),\n",
      "            (18766536, '2018-07-09 08:37:38.200597'),\n",
      "            (18774860, '2018-07-09 08:37:38.200597'),\n",
      "            (18946452, '2018-07-09 08:37:38.200597'),\n",
      "            (  353291, '2018-07-09 08:37:38.200597'),\n",
      "            ...\n",
      "            (18752875, '2018-07-09 08:37:38.200597'),\n",
      "            (18752877, '2018-07-09 08:37:38.200597'),\n",
      "            (18848246, '2018-07-09 08:37:38.200597'),\n",
      "            (18848247, '2018-07-09 08:37:38.200597'),\n",
      "            (16581435, '2018-07-09 08:37:38.200597'),\n",
      "            (17328050, '2018-07-09 08:37:38.200597'),\n",
      "            (18426726, '2018-07-09 08:37:38.200597'),\n",
      "            (18532806, '2018-07-09 08:37:38.200597'),\n",
      "            (18693648, '2018-07-09 08:37:38.200597'),\n",
      "            (18755618, '2018-07-09 08:37:38.200597')],\n",
      "           length=106)\n"
     ]
    },
    {
     "name": "stderr",
     "output_type": "stream",
     "text": [
      "/gpfs/data/oermannlab/users/hz2212/.conda/envs/ds3001-007/lib/python3.10/site-packages/pandas/core/indexes/base.py:4083: RuntimeWarning: invalid value encountered in cast\n",
      "  return engine.get_indexer_with_fill(  # type: ignore[union-attr]\n",
      "/gpfs/data/oermannlab/users/hz2212/.conda/envs/ds3001-007/lib/python3.10/site-packages/pandas/core/indexes/base.py:4083: RuntimeWarning: invalid value encountered in cast\n",
      "  return engine.get_indexer_with_fill(  # type: ignore[union-attr]\n"
     ]
    },
    {
     "name": "stdout",
     "output_type": "stream",
     "text": [
      "weather [datetime.datetime(2018, 7, 9, 8, 37, 38, 200597)]\n",
      "waitTime MultiIndex([(  353289, '2018-07-09 08:54:15.380298'),\n",
      "            (  353387, '2018-07-09 08:54:15.380298'),\n",
      "            (  353433, '2018-07-09 08:54:15.380298'),\n",
      "            (  353451, '2018-07-09 08:54:15.380298'),\n",
      "            (  353457, '2018-07-09 08:54:15.380298'),\n",
      "            (17328049, '2018-07-09 08:54:15.380298'),\n",
      "            (18766536, '2018-07-09 08:54:15.380298'),\n",
      "            (18774860, '2018-07-09 08:54:15.380298'),\n",
      "            (18946452, '2018-07-09 08:54:15.380298'),\n",
      "            (  353291, '2018-07-09 08:54:15.380298'),\n",
      "            ...\n",
      "            (18752875, '2018-07-09 08:54:15.380298'),\n",
      "            (18752877, '2018-07-09 08:54:15.380298'),\n",
      "            (18848246, '2018-07-09 08:54:15.380298'),\n",
      "            (18848247, '2018-07-09 08:54:15.380298'),\n",
      "            (16581435, '2018-07-09 08:54:15.380298'),\n",
      "            (17328050, '2018-07-09 08:54:15.380298'),\n",
      "            (18426726, '2018-07-09 08:54:15.380298'),\n",
      "            (18532806, '2018-07-09 08:54:15.380298'),\n",
      "            (18693648, '2018-07-09 08:54:15.380298'),\n",
      "            (18755618, '2018-07-09 08:54:15.380298')],\n",
      "           length=106)\n",
      "weather [datetime.datetime(2018, 7, 9, 8, 54, 15, 380298)]\n",
      "waitTime MultiIndex([(  353289, '2018-07-09 09:12:50.779570'),\n",
      "            (  353387, '2018-07-09 09:12:50.779570'),\n",
      "            (  353433, '2018-07-09 09:12:50.779570'),\n",
      "            (  353451, '2018-07-09 09:12:50.779570'),\n",
      "            (  353457, '2018-07-09 09:12:50.779570'),\n",
      "            (17328049, '2018-07-09 09:12:50.779570'),\n",
      "            (18766536, '2018-07-09 09:12:50.779570'),\n",
      "            (18774860, '2018-07-09 09:12:50.779570'),\n",
      "            (18946452, '2018-07-09 09:12:50.779570'),\n",
      "            (  353291, '2018-07-09 09:12:50.779570'),\n",
      "            ...\n",
      "            (18752875, '2018-07-09 09:12:50.779570'),\n",
      "            (18752877, '2018-07-09 09:12:50.779570'),\n",
      "            (18848246, '2018-07-09 09:12:50.779570'),\n",
      "            (18848247, '2018-07-09 09:12:50.779570'),\n",
      "            (16581435, '2018-07-09 09:12:50.779570'),\n",
      "            (17328050, '2018-07-09 09:12:50.779570'),\n",
      "            (18426726, '2018-07-09 09:12:50.779570'),\n",
      "            (18532806, '2018-07-09 09:12:50.779570'),\n",
      "            (18693648, '2018-07-09 09:12:50.779570'),\n",
      "            (18755618, '2018-07-09 09:12:50.779570')],\n",
      "           length=106)\n"
     ]
    },
    {
     "name": "stderr",
     "output_type": "stream",
     "text": [
      "/gpfs/data/oermannlab/users/hz2212/.conda/envs/ds3001-007/lib/python3.10/site-packages/pandas/core/indexes/base.py:4083: RuntimeWarning: invalid value encountered in cast\n",
      "  return engine.get_indexer_with_fill(  # type: ignore[union-attr]\n",
      "/gpfs/data/oermannlab/users/hz2212/.conda/envs/ds3001-007/lib/python3.10/site-packages/pandas/core/indexes/base.py:4083: RuntimeWarning: invalid value encountered in cast\n",
      "  return engine.get_indexer_with_fill(  # type: ignore[union-attr]\n"
     ]
    },
    {
     "name": "stdout",
     "output_type": "stream",
     "text": [
      "weather [datetime.datetime(2018, 7, 9, 9, 12, 50, 779570)]\n",
      "waitTime MultiIndex([(  353289, '2018-07-09 09:25:59.204677'),\n",
      "            (  353387, '2018-07-09 09:25:59.204677'),\n",
      "            (  353433, '2018-07-09 09:25:59.204677'),\n",
      "            (  353451, '2018-07-09 09:25:59.204677'),\n",
      "            (  353457, '2018-07-09 09:25:59.204677'),\n",
      "            (17328049, '2018-07-09 09:25:59.204677'),\n",
      "            (18766536, '2018-07-09 09:25:59.204677'),\n",
      "            (18774860, '2018-07-09 09:25:59.204677'),\n",
      "            (18946452, '2018-07-09 09:25:59.204677'),\n",
      "            (  353291, '2018-07-09 09:25:59.204677'),\n",
      "            ...\n",
      "            (18752875, '2018-07-09 09:25:59.204677'),\n",
      "            (18752877, '2018-07-09 09:25:59.204677'),\n",
      "            (18848246, '2018-07-09 09:25:59.204677'),\n",
      "            (18848247, '2018-07-09 09:25:59.204677'),\n",
      "            (16581435, '2018-07-09 09:25:59.204677'),\n",
      "            (17328050, '2018-07-09 09:25:59.204677'),\n",
      "            (18426726, '2018-07-09 09:25:59.204677'),\n",
      "            (18532806, '2018-07-09 09:25:59.204677'),\n",
      "            (18693648, '2018-07-09 09:25:59.204677'),\n",
      "            (18755618, '2018-07-09 09:25:59.204677')],\n",
      "           length=106)\n",
      "weather [datetime.datetime(2018, 7, 9, 9, 25, 59, 204677)]\n",
      "waitTime MultiIndex([(  353289, '2018-07-09 09:42:42.515279'),\n",
      "            (  353387, '2018-07-09 09:42:42.515279'),\n",
      "            (  353433, '2018-07-09 09:42:42.515279'),\n",
      "            (  353451, '2018-07-09 09:42:42.515279'),\n",
      "            (  353457, '2018-07-09 09:42:42.515279'),\n",
      "            (17328049, '2018-07-09 09:42:42.515279'),\n",
      "            (18766536, '2018-07-09 09:42:42.515279'),\n",
      "            (18774860, '2018-07-09 09:42:42.515279'),\n",
      "            (18946452, '2018-07-09 09:42:42.515279'),\n",
      "            (  353291, '2018-07-09 09:42:42.515279'),\n",
      "            ...\n",
      "            (18752875, '2018-07-09 09:42:42.515279'),\n",
      "            (18752877, '2018-07-09 09:42:42.515279'),\n",
      "            (18848246, '2018-07-09 09:42:42.515279'),\n",
      "            (18848247, '2018-07-09 09:42:42.515279'),\n",
      "            (16581435, '2018-07-09 09:42:42.515279'),\n",
      "            (17328050, '2018-07-09 09:42:42.515279'),\n",
      "            (18426726, '2018-07-09 09:42:42.515279'),\n",
      "            (18532806, '2018-07-09 09:42:42.515279'),\n",
      "            (18693648, '2018-07-09 09:42:42.515279'),\n",
      "            (18755618, '2018-07-09 09:42:42.515279')],\n",
      "           length=106)\n"
     ]
    },
    {
     "name": "stderr",
     "output_type": "stream",
     "text": [
      "/gpfs/data/oermannlab/users/hz2212/.conda/envs/ds3001-007/lib/python3.10/site-packages/pandas/core/indexes/base.py:4083: RuntimeWarning: invalid value encountered in cast\n",
      "  return engine.get_indexer_with_fill(  # type: ignore[union-attr]\n",
      "/gpfs/data/oermannlab/users/hz2212/.conda/envs/ds3001-007/lib/python3.10/site-packages/pandas/core/indexes/base.py:4083: RuntimeWarning: invalid value encountered in cast\n",
      "  return engine.get_indexer_with_fill(  # type: ignore[union-attr]\n"
     ]
    },
    {
     "name": "stdout",
     "output_type": "stream",
     "text": [
      "weather [datetime.datetime(2018, 7, 9, 9, 42, 42, 515279)]\n",
      "waitTime MultiIndex([(  353289, '2018-07-09 09:57:41.913450'),\n",
      "            (  353387, '2018-07-09 09:57:41.913450'),\n",
      "            (  353433, '2018-07-09 09:57:41.913450'),\n",
      "            (  353451, '2018-07-09 09:57:41.913450'),\n",
      "            (  353457, '2018-07-09 09:57:41.913450'),\n",
      "            (17328049, '2018-07-09 09:57:41.913450'),\n",
      "            (18766536, '2018-07-09 09:57:41.913450'),\n",
      "            (18774860, '2018-07-09 09:57:41.913450'),\n",
      "            (18946452, '2018-07-09 09:57:41.913450'),\n",
      "            (  353291, '2018-07-09 09:57:41.913450'),\n",
      "            ...\n",
      "            (18752875, '2018-07-09 09:57:41.913450'),\n",
      "            (18752877, '2018-07-09 09:57:41.913450'),\n",
      "            (18848246, '2018-07-09 09:57:41.913450'),\n",
      "            (18848247, '2018-07-09 09:57:41.913450'),\n",
      "            (16581435, '2018-07-09 09:57:41.913450'),\n",
      "            (17328050, '2018-07-09 09:57:41.913450'),\n",
      "            (18426726, '2018-07-09 09:57:41.913450'),\n",
      "            (18532806, '2018-07-09 09:57:41.913450'),\n",
      "            (18693648, '2018-07-09 09:57:41.913450'),\n",
      "            (18755618, '2018-07-09 09:57:41.913450')],\n",
      "           length=106)\n",
      "weather [datetime.datetime(2018, 7, 9, 9, 57, 41, 913450)]\n",
      "waitTime MultiIndex([(  353289, '2018-07-09 10:10:32.342385'),\n",
      "            (  353387, '2018-07-09 10:10:32.342385'),\n",
      "            (  353433, '2018-07-09 10:10:32.342385'),\n",
      "            (  353451, '2018-07-09 10:10:32.342385'),\n",
      "            (  353457, '2018-07-09 10:10:32.342385'),\n",
      "            (17328049, '2018-07-09 10:10:32.342385'),\n",
      "            (18766536, '2018-07-09 10:10:32.342385'),\n",
      "            (18774860, '2018-07-09 10:10:32.342385'),\n",
      "            (18946452, '2018-07-09 10:10:32.342385'),\n",
      "            (  353291, '2018-07-09 10:10:32.342385'),\n",
      "            ...\n",
      "            (18752875, '2018-07-09 10:10:32.342385'),\n",
      "            (18752877, '2018-07-09 10:10:32.342385'),\n",
      "            (18848246, '2018-07-09 10:10:32.342385'),\n",
      "            (18848247, '2018-07-09 10:10:32.342385'),\n",
      "            (16581435, '2018-07-09 10:10:32.342385'),\n",
      "            (17328050, '2018-07-09 10:10:32.342385'),\n",
      "            (18426726, '2018-07-09 10:10:32.342385'),\n",
      "            (18532806, '2018-07-09 10:10:32.342385'),\n",
      "            (18693648, '2018-07-09 10:10:32.342385'),\n",
      "            (18755618, '2018-07-09 10:10:32.342385')],\n",
      "           length=106)\n"
     ]
    },
    {
     "name": "stderr",
     "output_type": "stream",
     "text": [
      "/gpfs/data/oermannlab/users/hz2212/.conda/envs/ds3001-007/lib/python3.10/site-packages/pandas/core/indexes/base.py:4083: RuntimeWarning: invalid value encountered in cast\n",
      "  return engine.get_indexer_with_fill(  # type: ignore[union-attr]\n"
     ]
    },
    {
     "ename": "KeyboardInterrupt",
     "evalue": "",
     "output_type": "error",
     "traceback": [
      "\u001b[0;31m---------------------------------------------------------------------------\u001b[0m",
      "\u001b[0;31mKeyboardInterrupt\u001b[0m                         Traceback (most recent call last)",
      "Cell \u001b[0;32mIn[3], line 4\u001b[0m\n\u001b[1;32m      2\u001b[0m device \u001b[38;5;241m=\u001b[39m \u001b[38;5;124m\"\u001b[39m\u001b[38;5;124mcuda\u001b[39m\u001b[38;5;124m\"\u001b[39m \u001b[38;5;28;01mif\u001b[39;00m torch\u001b[38;5;241m.\u001b[39mcuda\u001b[38;5;241m.\u001b[39mis_available() \u001b[38;5;28;01melse\u001b[39;00m \u001b[38;5;124m\"\u001b[39m\u001b[38;5;124mcpu\u001b[39m\u001b[38;5;124m\"\u001b[39m\n\u001b[1;32m      3\u001b[0m agent \u001b[38;5;241m=\u001b[39m PPO(\u001b[38;5;124m\"\u001b[39m\u001b[38;5;124mMultiInputPolicy\u001b[39m\u001b[38;5;124m\"\u001b[39m,env,verbose\u001b[38;5;241m=\u001b[39m\u001b[38;5;241m1\u001b[39m, device\u001b[38;5;241m=\u001b[39mdevice)\n\u001b[0;32m----> 4\u001b[0m \u001b[43magent\u001b[49m\u001b[38;5;241;43m.\u001b[39;49m\u001b[43mlearn\u001b[49m\u001b[43m(\u001b[49m\u001b[43mtotal_timesteps\u001b[49m\u001b[38;5;241;43m=\u001b[39;49m\u001b[38;5;241;43m100\u001b[39;49m\u001b[43m)\u001b[49m\n",
      "File \u001b[0;32m~/.conda/envs/ds3001-007/lib/python3.10/site-packages/stable_baselines3/ppo/ppo.py:299\u001b[0m, in \u001b[0;36mPPO.learn\u001b[0;34m(self, total_timesteps, callback, log_interval, eval_env, eval_freq, n_eval_episodes, tb_log_name, eval_log_path, reset_num_timesteps)\u001b[0m\n\u001b[1;32m    286\u001b[0m \u001b[38;5;28;01mdef\u001b[39;00m \u001b[38;5;21mlearn\u001b[39m(\n\u001b[1;32m    287\u001b[0m     \u001b[38;5;28mself\u001b[39m,\n\u001b[1;32m    288\u001b[0m     total_timesteps: \u001b[38;5;28mint\u001b[39m,\n\u001b[0;32m   (...)\u001b[0m\n\u001b[1;32m    296\u001b[0m     reset_num_timesteps: \u001b[38;5;28mbool\u001b[39m \u001b[38;5;241m=\u001b[39m \u001b[38;5;28;01mTrue\u001b[39;00m,\n\u001b[1;32m    297\u001b[0m ) \u001b[38;5;241m-\u001b[39m\u001b[38;5;241m>\u001b[39m \u001b[38;5;124m\"\u001b[39m\u001b[38;5;124mPPO\u001b[39m\u001b[38;5;124m\"\u001b[39m:\n\u001b[0;32m--> 299\u001b[0m     \u001b[38;5;28;01mreturn\u001b[39;00m \u001b[38;5;28;43msuper\u001b[39;49m\u001b[43m(\u001b[49m\u001b[43mPPO\u001b[49m\u001b[43m,\u001b[49m\u001b[43m \u001b[49m\u001b[38;5;28;43mself\u001b[39;49m\u001b[43m)\u001b[49m\u001b[38;5;241;43m.\u001b[39;49m\u001b[43mlearn\u001b[49m\u001b[43m(\u001b[49m\n\u001b[1;32m    300\u001b[0m \u001b[43m        \u001b[49m\u001b[43mtotal_timesteps\u001b[49m\u001b[38;5;241;43m=\u001b[39;49m\u001b[43mtotal_timesteps\u001b[49m\u001b[43m,\u001b[49m\n\u001b[1;32m    301\u001b[0m \u001b[43m        \u001b[49m\u001b[43mcallback\u001b[49m\u001b[38;5;241;43m=\u001b[39;49m\u001b[43mcallback\u001b[49m\u001b[43m,\u001b[49m\n\u001b[1;32m    302\u001b[0m \u001b[43m        \u001b[49m\u001b[43mlog_interval\u001b[49m\u001b[38;5;241;43m=\u001b[39;49m\u001b[43mlog_interval\u001b[49m\u001b[43m,\u001b[49m\n\u001b[1;32m    303\u001b[0m \u001b[43m        \u001b[49m\u001b[43meval_env\u001b[49m\u001b[38;5;241;43m=\u001b[39;49m\u001b[43meval_env\u001b[49m\u001b[43m,\u001b[49m\n\u001b[1;32m    304\u001b[0m \u001b[43m        \u001b[49m\u001b[43meval_freq\u001b[49m\u001b[38;5;241;43m=\u001b[39;49m\u001b[43meval_freq\u001b[49m\u001b[43m,\u001b[49m\n\u001b[1;32m    305\u001b[0m \u001b[43m        \u001b[49m\u001b[43mn_eval_episodes\u001b[49m\u001b[38;5;241;43m=\u001b[39;49m\u001b[43mn_eval_episodes\u001b[49m\u001b[43m,\u001b[49m\n\u001b[1;32m    306\u001b[0m \u001b[43m        \u001b[49m\u001b[43mtb_log_name\u001b[49m\u001b[38;5;241;43m=\u001b[39;49m\u001b[43mtb_log_name\u001b[49m\u001b[43m,\u001b[49m\n\u001b[1;32m    307\u001b[0m \u001b[43m        \u001b[49m\u001b[43meval_log_path\u001b[49m\u001b[38;5;241;43m=\u001b[39;49m\u001b[43meval_log_path\u001b[49m\u001b[43m,\u001b[49m\n\u001b[1;32m    308\u001b[0m \u001b[43m        \u001b[49m\u001b[43mreset_num_timesteps\u001b[49m\u001b[38;5;241;43m=\u001b[39;49m\u001b[43mreset_num_timesteps\u001b[49m\u001b[43m,\u001b[49m\n\u001b[1;32m    309\u001b[0m \u001b[43m    \u001b[49m\u001b[43m)\u001b[49m\n",
      "File \u001b[0;32m~/.conda/envs/ds3001-007/lib/python3.10/site-packages/stable_baselines3/common/on_policy_algorithm.py:234\u001b[0m, in \u001b[0;36mOnPolicyAlgorithm.learn\u001b[0;34m(self, total_timesteps, callback, log_interval, eval_env, eval_freq, n_eval_episodes, tb_log_name, eval_log_path, reset_num_timesteps)\u001b[0m\n\u001b[1;32m    230\u001b[0m callback\u001b[38;5;241m.\u001b[39mon_training_start(\u001b[38;5;28mlocals\u001b[39m(), \u001b[38;5;28mglobals\u001b[39m())\n\u001b[1;32m    232\u001b[0m \u001b[38;5;28;01mwhile\u001b[39;00m \u001b[38;5;28mself\u001b[39m\u001b[38;5;241m.\u001b[39mnum_timesteps \u001b[38;5;241m<\u001b[39m total_timesteps:\n\u001b[0;32m--> 234\u001b[0m     continue_training \u001b[38;5;241m=\u001b[39m \u001b[38;5;28;43mself\u001b[39;49m\u001b[38;5;241;43m.\u001b[39;49m\u001b[43mcollect_rollouts\u001b[49m\u001b[43m(\u001b[49m\u001b[38;5;28;43mself\u001b[39;49m\u001b[38;5;241;43m.\u001b[39;49m\u001b[43menv\u001b[49m\u001b[43m,\u001b[49m\u001b[43m \u001b[49m\u001b[43mcallback\u001b[49m\u001b[43m,\u001b[49m\u001b[43m \u001b[49m\u001b[38;5;28;43mself\u001b[39;49m\u001b[38;5;241;43m.\u001b[39;49m\u001b[43mrollout_buffer\u001b[49m\u001b[43m,\u001b[49m\u001b[43m \u001b[49m\u001b[43mn_rollout_steps\u001b[49m\u001b[38;5;241;43m=\u001b[39;49m\u001b[38;5;28;43mself\u001b[39;49m\u001b[38;5;241;43m.\u001b[39;49m\u001b[43mn_steps\u001b[49m\u001b[43m)\u001b[49m\n\u001b[1;32m    236\u001b[0m     \u001b[38;5;28;01mif\u001b[39;00m continue_training \u001b[38;5;129;01mis\u001b[39;00m \u001b[38;5;28;01mFalse\u001b[39;00m:\n\u001b[1;32m    237\u001b[0m         \u001b[38;5;28;01mbreak\u001b[39;00m\n",
      "File \u001b[0;32m~/.conda/envs/ds3001-007/lib/python3.10/site-packages/stable_baselines3/common/on_policy_algorithm.py:175\u001b[0m, in \u001b[0;36mOnPolicyAlgorithm.collect_rollouts\u001b[0;34m(self, env, callback, rollout_buffer, n_rollout_steps)\u001b[0m\n\u001b[1;32m    172\u001b[0m \u001b[38;5;28;01mif\u001b[39;00m \u001b[38;5;28misinstance\u001b[39m(\u001b[38;5;28mself\u001b[39m\u001b[38;5;241m.\u001b[39maction_space, gym\u001b[38;5;241m.\u001b[39mspaces\u001b[38;5;241m.\u001b[39mBox):\n\u001b[1;32m    173\u001b[0m     clipped_actions \u001b[38;5;241m=\u001b[39m np\u001b[38;5;241m.\u001b[39mclip(actions, \u001b[38;5;28mself\u001b[39m\u001b[38;5;241m.\u001b[39maction_space\u001b[38;5;241m.\u001b[39mlow, \u001b[38;5;28mself\u001b[39m\u001b[38;5;241m.\u001b[39maction_space\u001b[38;5;241m.\u001b[39mhigh)\n\u001b[0;32m--> 175\u001b[0m new_obs, rewards, dones, infos \u001b[38;5;241m=\u001b[39m \u001b[43menv\u001b[49m\u001b[38;5;241;43m.\u001b[39;49m\u001b[43mstep\u001b[49m\u001b[43m(\u001b[49m\u001b[43mclipped_actions\u001b[49m\u001b[43m)\u001b[49m\n\u001b[1;32m    177\u001b[0m \u001b[38;5;28mself\u001b[39m\u001b[38;5;241m.\u001b[39mnum_timesteps \u001b[38;5;241m+\u001b[39m\u001b[38;5;241m=\u001b[39m env\u001b[38;5;241m.\u001b[39mnum_envs\n\u001b[1;32m    179\u001b[0m \u001b[38;5;66;03m# Give access to local variables\u001b[39;00m\n",
      "File \u001b[0;32m~/.conda/envs/ds3001-007/lib/python3.10/site-packages/stable_baselines3/common/vec_env/base_vec_env.py:162\u001b[0m, in \u001b[0;36mVecEnv.step\u001b[0;34m(self, actions)\u001b[0m\n\u001b[1;32m    155\u001b[0m \u001b[38;5;124;03m\"\"\"\u001b[39;00m\n\u001b[1;32m    156\u001b[0m \u001b[38;5;124;03mStep the environments with the given action\u001b[39;00m\n\u001b[1;32m    157\u001b[0m \n\u001b[1;32m    158\u001b[0m \u001b[38;5;124;03m:param actions: the action\u001b[39;00m\n\u001b[1;32m    159\u001b[0m \u001b[38;5;124;03m:return: observation, reward, done, information\u001b[39;00m\n\u001b[1;32m    160\u001b[0m \u001b[38;5;124;03m\"\"\"\u001b[39;00m\n\u001b[1;32m    161\u001b[0m \u001b[38;5;28mself\u001b[39m\u001b[38;5;241m.\u001b[39mstep_async(actions)\n\u001b[0;32m--> 162\u001b[0m \u001b[38;5;28;01mreturn\u001b[39;00m \u001b[38;5;28;43mself\u001b[39;49m\u001b[38;5;241;43m.\u001b[39;49m\u001b[43mstep_wait\u001b[49m\u001b[43m(\u001b[49m\u001b[43m)\u001b[49m\n",
      "File \u001b[0;32m~/.conda/envs/ds3001-007/lib/python3.10/site-packages/stable_baselines3/common/vec_env/dummy_vec_env.py:43\u001b[0m, in \u001b[0;36mDummyVecEnv.step_wait\u001b[0;34m(self)\u001b[0m\n\u001b[1;32m     41\u001b[0m \u001b[38;5;28;01mdef\u001b[39;00m \u001b[38;5;21mstep_wait\u001b[39m(\u001b[38;5;28mself\u001b[39m) \u001b[38;5;241m-\u001b[39m\u001b[38;5;241m>\u001b[39m VecEnvStepReturn:\n\u001b[1;32m     42\u001b[0m     \u001b[38;5;28;01mfor\u001b[39;00m env_idx \u001b[38;5;129;01min\u001b[39;00m \u001b[38;5;28mrange\u001b[39m(\u001b[38;5;28mself\u001b[39m\u001b[38;5;241m.\u001b[39mnum_envs):\n\u001b[0;32m---> 43\u001b[0m         obs, \u001b[38;5;28mself\u001b[39m\u001b[38;5;241m.\u001b[39mbuf_rews[env_idx], \u001b[38;5;28mself\u001b[39m\u001b[38;5;241m.\u001b[39mbuf_dones[env_idx], \u001b[38;5;28mself\u001b[39m\u001b[38;5;241m.\u001b[39mbuf_infos[env_idx] \u001b[38;5;241m=\u001b[39m \u001b[38;5;28;43mself\u001b[39;49m\u001b[38;5;241;43m.\u001b[39;49m\u001b[43menvs\u001b[49m\u001b[43m[\u001b[49m\u001b[43menv_idx\u001b[49m\u001b[43m]\u001b[49m\u001b[38;5;241;43m.\u001b[39;49m\u001b[43mstep\u001b[49m\u001b[43m(\u001b[49m\n\u001b[1;32m     44\u001b[0m \u001b[43m            \u001b[49m\u001b[38;5;28;43mself\u001b[39;49m\u001b[38;5;241;43m.\u001b[39;49m\u001b[43mactions\u001b[49m\u001b[43m[\u001b[49m\u001b[43menv_idx\u001b[49m\u001b[43m]\u001b[49m\n\u001b[1;32m     45\u001b[0m \u001b[43m        \u001b[49m\u001b[43m)\u001b[49m\n\u001b[1;32m     46\u001b[0m         \u001b[38;5;28;01mif\u001b[39;00m \u001b[38;5;28mself\u001b[39m\u001b[38;5;241m.\u001b[39mbuf_dones[env_idx]:\n\u001b[1;32m     47\u001b[0m             \u001b[38;5;66;03m# save final observation where user can get it, then reset\u001b[39;00m\n\u001b[1;32m     48\u001b[0m             \u001b[38;5;28mself\u001b[39m\u001b[38;5;241m.\u001b[39mbuf_infos[env_idx][\u001b[38;5;124m\"\u001b[39m\u001b[38;5;124mterminal_observation\u001b[39m\u001b[38;5;124m\"\u001b[39m] \u001b[38;5;241m=\u001b[39m obs\n",
      "File \u001b[0;32m~/.conda/envs/ds3001-007/lib/python3.10/site-packages/stable_baselines3/common/monitor.py:90\u001b[0m, in \u001b[0;36mMonitor.step\u001b[0;34m(self, action)\u001b[0m\n\u001b[1;32m     88\u001b[0m \u001b[38;5;28;01mif\u001b[39;00m \u001b[38;5;28mself\u001b[39m\u001b[38;5;241m.\u001b[39mneeds_reset:\n\u001b[1;32m     89\u001b[0m     \u001b[38;5;28;01mraise\u001b[39;00m \u001b[38;5;167;01mRuntimeError\u001b[39;00m(\u001b[38;5;124m\"\u001b[39m\u001b[38;5;124mTried to step environment that needs reset\u001b[39m\u001b[38;5;124m\"\u001b[39m)\n\u001b[0;32m---> 90\u001b[0m observation, reward, done, info \u001b[38;5;241m=\u001b[39m \u001b[38;5;28;43mself\u001b[39;49m\u001b[38;5;241;43m.\u001b[39;49m\u001b[43menv\u001b[49m\u001b[38;5;241;43m.\u001b[39;49m\u001b[43mstep\u001b[49m\u001b[43m(\u001b[49m\u001b[43maction\u001b[49m\u001b[43m)\u001b[49m\n\u001b[1;32m     91\u001b[0m \u001b[38;5;28mself\u001b[39m\u001b[38;5;241m.\u001b[39mrewards\u001b[38;5;241m.\u001b[39mappend(reward)\n\u001b[1;32m     92\u001b[0m \u001b[38;5;28;01mif\u001b[39;00m done:\n",
      "File \u001b[0;32m~/.conda/envs/ds3001-007/lib/python3.10/site-packages/gym/wrappers/time_limit.py:18\u001b[0m, in \u001b[0;36mTimeLimit.step\u001b[0;34m(self, action)\u001b[0m\n\u001b[1;32m     14\u001b[0m \u001b[38;5;28;01mdef\u001b[39;00m \u001b[38;5;21mstep\u001b[39m(\u001b[38;5;28mself\u001b[39m, action):\n\u001b[1;32m     15\u001b[0m     \u001b[38;5;28;01massert\u001b[39;00m (\n\u001b[1;32m     16\u001b[0m         \u001b[38;5;28mself\u001b[39m\u001b[38;5;241m.\u001b[39m_elapsed_steps \u001b[38;5;129;01mis\u001b[39;00m \u001b[38;5;129;01mnot\u001b[39;00m \u001b[38;5;28;01mNone\u001b[39;00m\n\u001b[1;32m     17\u001b[0m     ), \u001b[38;5;124m\"\u001b[39m\u001b[38;5;124mCannot call env.step() before calling reset()\u001b[39m\u001b[38;5;124m\"\u001b[39m\n\u001b[0;32m---> 18\u001b[0m     observation, reward, done, info \u001b[38;5;241m=\u001b[39m \u001b[38;5;28;43mself\u001b[39;49m\u001b[38;5;241;43m.\u001b[39;49m\u001b[43menv\u001b[49m\u001b[38;5;241;43m.\u001b[39;49m\u001b[43mstep\u001b[49m\u001b[43m(\u001b[49m\u001b[43maction\u001b[49m\u001b[43m)\u001b[49m\n\u001b[1;32m     19\u001b[0m     \u001b[38;5;28mself\u001b[39m\u001b[38;5;241m.\u001b[39m_elapsed_steps \u001b[38;5;241m+\u001b[39m\u001b[38;5;241m=\u001b[39m \u001b[38;5;241m1\u001b[39m\n\u001b[1;32m     20\u001b[0m     \u001b[38;5;28;01mif\u001b[39;00m \u001b[38;5;28mself\u001b[39m\u001b[38;5;241m.\u001b[39m_elapsed_steps \u001b[38;5;241m>\u001b[39m\u001b[38;5;241m=\u001b[39m \u001b[38;5;28mself\u001b[39m\u001b[38;5;241m.\u001b[39m_max_episode_steps:\n",
      "File \u001b[0;32m~/DS-GA 3001-007/disneyenv/disneyenv/envs/disney.py:241\u001b[0m, in \u001b[0;36mDisneyEnv.step\u001b[0;34m(self, action)\u001b[0m\n\u001b[1;32m    238\u001b[0m \u001b[38;5;66;03m# compute next timestamp\u001b[39;00m\n\u001b[1;32m    239\u001b[0m \u001b[38;5;28mself\u001b[39m\u001b[38;5;241m.\u001b[39mcurrent_time \u001b[38;5;241m+\u001b[39m\u001b[38;5;241m=\u001b[39m timedelta(minutes\u001b[38;5;241m=\u001b[39m(travel_duration \u001b[38;5;241m+\u001b[39m\n\u001b[1;32m    240\u001b[0m                                wait_duration \u001b[38;5;241m+\u001b[39m ride_duration))\n\u001b[0;32m--> 241\u001b[0m \u001b[38;5;28mself\u001b[39m\u001b[38;5;241m.\u001b[39mobservation \u001b[38;5;241m=\u001b[39m \u001b[38;5;28;43mself\u001b[39;49m\u001b[38;5;241;43m.\u001b[39;49m\u001b[43m__get_observation\u001b[49m\u001b[43m(\u001b[49m\u001b[43m)\u001b[49m\n\u001b[1;32m    243\u001b[0m info \u001b[38;5;241m=\u001b[39m {}\n\u001b[1;32m    244\u001b[0m terminated \u001b[38;5;241m=\u001b[39m \u001b[38;5;28mself\u001b[39m\u001b[38;5;241m.\u001b[39mcurrent_time\u001b[38;5;241m.\u001b[39mhour \u001b[38;5;241m>\u001b[39m \u001b[38;5;241m22\u001b[39m\n",
      "File \u001b[0;32m~/DS-GA 3001-007/disneyenv/disneyenv/envs/disney.py:93\u001b[0m, in \u001b[0;36mDisneyEnv.__get_observation\u001b[0;34m(self)\u001b[0m\n\u001b[1;32m     88\u001b[0m \u001b[38;5;28;01mdef\u001b[39;00m \u001b[38;5;21m__get_observation\u001b[39m(\u001b[38;5;28mself\u001b[39m):\n\u001b[1;32m     89\u001b[0m     \u001b[38;5;66;03m# for each attraction, return its wait time\u001b[39;00m\n\u001b[1;32m     90\u001b[0m     input_waitTime_index \u001b[38;5;241m=\u001b[39m pd\u001b[38;5;241m.\u001b[39mMultiIndex\u001b[38;5;241m.\u001b[39mfrom_arrays(\n\u001b[1;32m     91\u001b[0m         [\u001b[38;5;28mself\u001b[39m\u001b[38;5;241m.\u001b[39mrides, np\u001b[38;5;241m.\u001b[39mrepeat(\u001b[38;5;28mself\u001b[39m\u001b[38;5;241m.\u001b[39mcurrent_time, \u001b[38;5;28mlen\u001b[39m(\u001b[38;5;28mself\u001b[39m\u001b[38;5;241m.\u001b[39mrides))])\n\u001b[0;32m---> 93\u001b[0m     waitTime, operationStatus \u001b[38;5;241m=\u001b[39m \u001b[38;5;28;43mself\u001b[39;49m\u001b[38;5;241;43m.\u001b[39;49m\u001b[43mretrieve_closest_prior_info\u001b[49m\u001b[43m(\u001b[49m\n\u001b[1;32m     94\u001b[0m \u001b[43m        \u001b[49m\u001b[43minput_waitTime_index\u001b[49m\u001b[43m,\u001b[49m\u001b[43m \u001b[49m\u001b[38;5;28;43mself\u001b[39;49m\u001b[38;5;241;43m.\u001b[39;49m\u001b[43mwaitTime\u001b[49m\u001b[43m,\u001b[49m\u001b[43m \u001b[49m\u001b[38;5;124;43m\"\u001b[39;49m\u001b[38;5;124;43mwaitTime\u001b[39;49m\u001b[38;5;124;43m\"\u001b[39;49m\u001b[43m)\u001b[49m\n\u001b[1;32m     96\u001b[0m     \u001b[38;5;66;03m# weather\u001b[39;00m\n\u001b[1;32m     97\u001b[0m     rainStatus, feelsLikeF \u001b[38;5;241m=\u001b[39m \u001b[38;5;28mself\u001b[39m\u001b[38;5;241m.\u001b[39mretrieve_closest_prior_info(\n\u001b[1;32m     98\u001b[0m         [\u001b[38;5;28mself\u001b[39m\u001b[38;5;241m.\u001b[39mcurrent_time], \u001b[38;5;28mself\u001b[39m\u001b[38;5;241m.\u001b[39mweather_today, \u001b[38;5;124m\"\u001b[39m\u001b[38;5;124mweather\u001b[39m\u001b[38;5;124m\"\u001b[39m)\n",
      "File \u001b[0;32m~/DS-GA 3001-007/disneyenv/disneyenv/envs/disney.py:115\u001b[0m, in \u001b[0;36mDisneyEnv.retrieve_closest_prior_info\u001b[0;34m(self, input_index, target_df, event_type)\u001b[0m\n\u001b[1;32m    111\u001b[0m \u001b[38;5;28;01mdef\u001b[39;00m \u001b[38;5;21mretrieve_closest_prior_info\u001b[39m(\u001b[38;5;28mself\u001b[39m, input_index, target_df, event_type: \u001b[38;5;28mstr\u001b[39m):\n\u001b[1;32m    112\u001b[0m \n\u001b[1;32m    113\u001b[0m     \u001b[38;5;66;03m# get iloc of the target indexes\u001b[39;00m\n\u001b[1;32m    114\u001b[0m     \u001b[38;5;28mprint\u001b[39m(event_type, input_index)\n\u001b[0;32m--> 115\u001b[0m     target_ilocs \u001b[38;5;241m=\u001b[39m \u001b[43mtarget_df\u001b[49m\u001b[38;5;241;43m.\u001b[39;49m\u001b[43mindex\u001b[49m\u001b[38;5;241;43m.\u001b[39;49m\u001b[43mget_indexer\u001b[49m\u001b[43m(\u001b[49m\u001b[43minput_index\u001b[49m\u001b[43m,\u001b[49m\u001b[43m \u001b[49m\u001b[43mmethod\u001b[49m\u001b[38;5;241;43m=\u001b[39;49m\u001b[38;5;124;43m\"\u001b[39;49m\u001b[38;5;124;43mffill\u001b[39;49m\u001b[38;5;124;43m\"\u001b[39;49m\u001b[43m)\u001b[49m\n\u001b[1;32m    116\u001b[0m     \u001b[38;5;66;03m# index of valid ilocs\u001b[39;00m\n\u001b[1;32m    117\u001b[0m     valid_targets \u001b[38;5;241m=\u001b[39m np\u001b[38;5;241m.\u001b[39mwhere(target_ilocs \u001b[38;5;241m!=\u001b[39m \u001b[38;5;241m-\u001b[39m\u001b[38;5;241m1\u001b[39m)[\u001b[38;5;241m0\u001b[39m]\n",
      "File \u001b[0;32m~/.conda/envs/ds3001-007/lib/python3.10/site-packages/pandas/core/indexes/base.py:3973\u001b[0m, in \u001b[0;36mIndex.get_indexer\u001b[0;34m(self, target, method, limit, tolerance)\u001b[0m\n\u001b[1;32m   3968\u001b[0m     target \u001b[38;5;241m=\u001b[39m target\u001b[38;5;241m.\u001b[39mastype(dtype, copy\u001b[38;5;241m=\u001b[39m\u001b[38;5;28;01mFalse\u001b[39;00m)\n\u001b[1;32m   3969\u001b[0m     \u001b[38;5;28;01mreturn\u001b[39;00m this\u001b[38;5;241m.\u001b[39m_get_indexer(\n\u001b[1;32m   3970\u001b[0m         target, method\u001b[38;5;241m=\u001b[39mmethod, limit\u001b[38;5;241m=\u001b[39mlimit, tolerance\u001b[38;5;241m=\u001b[39mtolerance\n\u001b[1;32m   3971\u001b[0m     )\n\u001b[0;32m-> 3973\u001b[0m \u001b[38;5;28;01mreturn\u001b[39;00m \u001b[38;5;28;43mself\u001b[39;49m\u001b[38;5;241;43m.\u001b[39;49m\u001b[43m_get_indexer\u001b[49m\u001b[43m(\u001b[49m\u001b[43mtarget\u001b[49m\u001b[43m,\u001b[49m\u001b[43m \u001b[49m\u001b[43mmethod\u001b[49m\u001b[43m,\u001b[49m\u001b[43m \u001b[49m\u001b[43mlimit\u001b[49m\u001b[43m,\u001b[49m\u001b[43m \u001b[49m\u001b[43mtolerance\u001b[49m\u001b[43m)\u001b[49m\n",
      "File \u001b[0;32m~/.conda/envs/ds3001-007/lib/python3.10/site-packages/pandas/core/indexes/base.py:3986\u001b[0m, in \u001b[0;36mIndex._get_indexer\u001b[0;34m(self, target, method, limit, tolerance)\u001b[0m\n\u001b[1;32m   3983\u001b[0m     tolerance \u001b[38;5;241m=\u001b[39m \u001b[38;5;28mself\u001b[39m\u001b[38;5;241m.\u001b[39m_convert_tolerance(tolerance, target)\n\u001b[1;32m   3985\u001b[0m \u001b[38;5;28;01mif\u001b[39;00m method \u001b[38;5;129;01min\u001b[39;00m [\u001b[38;5;124m\"\u001b[39m\u001b[38;5;124mpad\u001b[39m\u001b[38;5;124m\"\u001b[39m, \u001b[38;5;124m\"\u001b[39m\u001b[38;5;124mbackfill\u001b[39m\u001b[38;5;124m\"\u001b[39m]:\n\u001b[0;32m-> 3986\u001b[0m     indexer \u001b[38;5;241m=\u001b[39m \u001b[38;5;28;43mself\u001b[39;49m\u001b[38;5;241;43m.\u001b[39;49m\u001b[43m_get_fill_indexer\u001b[49m\u001b[43m(\u001b[49m\u001b[43mtarget\u001b[49m\u001b[43m,\u001b[49m\u001b[43m \u001b[49m\u001b[43mmethod\u001b[49m\u001b[43m,\u001b[49m\u001b[43m \u001b[49m\u001b[43mlimit\u001b[49m\u001b[43m,\u001b[49m\u001b[43m \u001b[49m\u001b[43mtolerance\u001b[49m\u001b[43m)\u001b[49m\n\u001b[1;32m   3987\u001b[0m \u001b[38;5;28;01melif\u001b[39;00m method \u001b[38;5;241m==\u001b[39m \u001b[38;5;124m\"\u001b[39m\u001b[38;5;124mnearest\u001b[39m\u001b[38;5;124m\"\u001b[39m:\n\u001b[1;32m   3988\u001b[0m     indexer \u001b[38;5;241m=\u001b[39m \u001b[38;5;28mself\u001b[39m\u001b[38;5;241m.\u001b[39m_get_nearest_indexer(target, limit, tolerance)\n",
      "File \u001b[0;32m~/.conda/envs/ds3001-007/lib/python3.10/site-packages/pandas/core/indexes/base.py:4083\u001b[0m, in \u001b[0;36mIndex._get_fill_indexer\u001b[0;34m(self, target, method, limit, tolerance)\u001b[0m\n\u001b[1;32m   4078\u001b[0m \u001b[38;5;28;01mif\u001b[39;00m \u001b[38;5;28mself\u001b[39m\u001b[38;5;241m.\u001b[39m_is_multi:\n\u001b[1;32m   4079\u001b[0m     \u001b[38;5;66;03m# TODO: get_indexer_with_fill docstring says values must be _sorted_\u001b[39;00m\n\u001b[1;32m   4080\u001b[0m     \u001b[38;5;66;03m#  but that doesn't appear to be enforced\u001b[39;00m\n\u001b[1;32m   4081\u001b[0m     \u001b[38;5;66;03m# error: \"IndexEngine\" has no attribute \"get_indexer_with_fill\"\u001b[39;00m\n\u001b[1;32m   4082\u001b[0m     engine \u001b[38;5;241m=\u001b[39m \u001b[38;5;28mself\u001b[39m\u001b[38;5;241m.\u001b[39m_engine\n\u001b[0;32m-> 4083\u001b[0m     \u001b[38;5;28;01mreturn\u001b[39;00m \u001b[43mengine\u001b[49m\u001b[38;5;241;43m.\u001b[39;49m\u001b[43mget_indexer_with_fill\u001b[49m\u001b[43m(\u001b[49m\u001b[43m  \u001b[49m\u001b[38;5;66;43;03m# type: ignore[union-attr]\u001b[39;49;00m\n\u001b[1;32m   4084\u001b[0m \u001b[43m        \u001b[49m\u001b[43mtarget\u001b[49m\u001b[38;5;241;43m=\u001b[39;49m\u001b[43mtarget\u001b[49m\u001b[38;5;241;43m.\u001b[39;49m\u001b[43m_values\u001b[49m\u001b[43m,\u001b[49m\u001b[43m \u001b[49m\u001b[43mvalues\u001b[49m\u001b[38;5;241;43m=\u001b[39;49m\u001b[38;5;28;43mself\u001b[39;49m\u001b[38;5;241;43m.\u001b[39;49m\u001b[43m_values\u001b[49m\u001b[43m,\u001b[49m\u001b[43m \u001b[49m\u001b[43mmethod\u001b[49m\u001b[38;5;241;43m=\u001b[39;49m\u001b[43mmethod\u001b[49m\u001b[43m,\u001b[49m\u001b[43m \u001b[49m\u001b[43mlimit\u001b[49m\u001b[38;5;241;43m=\u001b[39;49m\u001b[43mlimit\u001b[49m\n\u001b[1;32m   4085\u001b[0m \u001b[43m    \u001b[49m\u001b[43m)\u001b[49m\n\u001b[1;32m   4087\u001b[0m \u001b[38;5;28;01mif\u001b[39;00m \u001b[38;5;28mself\u001b[39m\u001b[38;5;241m.\u001b[39mis_monotonic_increasing \u001b[38;5;129;01mand\u001b[39;00m target\u001b[38;5;241m.\u001b[39mis_monotonic_increasing:\n\u001b[1;32m   4088\u001b[0m     target_values \u001b[38;5;241m=\u001b[39m target\u001b[38;5;241m.\u001b[39m_get_engine_target()\n",
      "File \u001b[0;32m~/.conda/envs/ds3001-007/lib/python3.10/site-packages/pandas/_libs/index.pyx:766\u001b[0m, in \u001b[0;36mpandas._libs.index.BaseMultiIndexCodesEngine.get_indexer_with_fill\u001b[0;34m()\u001b[0m\n",
      "File \u001b[0;32m<__array_function__ internals>:180\u001b[0m, in \u001b[0;36margsort\u001b[0;34m(*args, **kwargs)\u001b[0m\n",
      "File \u001b[0;32m~/.conda/envs/ds3001-007/lib/python3.10/site-packages/numpy/core/fromnumeric.py:1034\u001b[0m, in \u001b[0;36m_argsort_dispatcher\u001b[0;34m(a, axis, kind, order)\u001b[0m\n\u001b[1;32m   1030\u001b[0m     a\u001b[38;5;241m.\u001b[39msort(axis\u001b[38;5;241m=\u001b[39maxis, kind\u001b[38;5;241m=\u001b[39mkind, order\u001b[38;5;241m=\u001b[39morder)\n\u001b[1;32m   1031\u001b[0m     \u001b[38;5;28;01mreturn\u001b[39;00m a\n\u001b[0;32m-> 1034\u001b[0m \u001b[38;5;28;01mdef\u001b[39;00m \u001b[38;5;21m_argsort_dispatcher\u001b[39m(a, axis\u001b[38;5;241m=\u001b[39m\u001b[38;5;28;01mNone\u001b[39;00m, kind\u001b[38;5;241m=\u001b[39m\u001b[38;5;28;01mNone\u001b[39;00m, order\u001b[38;5;241m=\u001b[39m\u001b[38;5;28;01mNone\u001b[39;00m):\n\u001b[1;32m   1035\u001b[0m     \u001b[38;5;28;01mreturn\u001b[39;00m (a,)\n\u001b[1;32m   1038\u001b[0m \u001b[38;5;129m@array_function_dispatch\u001b[39m(_argsort_dispatcher)\n\u001b[1;32m   1039\u001b[0m \u001b[38;5;28;01mdef\u001b[39;00m \u001b[38;5;21margsort\u001b[39m(a, axis\u001b[38;5;241m=\u001b[39m\u001b[38;5;241m-\u001b[39m\u001b[38;5;241m1\u001b[39m, kind\u001b[38;5;241m=\u001b[39m\u001b[38;5;28;01mNone\u001b[39;00m, order\u001b[38;5;241m=\u001b[39m\u001b[38;5;28;01mNone\u001b[39;00m):\n",
      "\u001b[0;31mKeyboardInterrupt\u001b[0m: "
     ]
    }
   ],
   "source": [
    "env = gym.make(\"disneyenv/Disney-v0\")\n",
    "device = \"cuda\" if torch.cuda.is_available() else \"cpu\"\n",
    "agent = PPO(\"MultiInputPolicy\",env,verbose=1, device=device)\n",
    "agent.learn(total_timesteps=100)\n",
    "# agent = PPO(\"MultiInputPolicy\",env,verbose=1, device=device, batch_size=1024, n_steps=1024)\n",
    "# agent.learn(total_timesteps=10000)"
   ]
  },
  {
   "cell_type": "code",
   "execution_count": null,
   "metadata": {},
   "outputs": [],
   "source": [
    "obs = env.reset()\n",
    "return_val = []\n",
    "while True:\n",
    "    action, _states = agent.predict(obs, deterministic=False)\n",
    "    #action = env.action_space.sample()\n",
    "    obs, reward, done, info = env.step(action)\n",
    "    print(\"at\", env.current_time, \"agent go to ride\", action, \"and get reward\", reward)\n",
    "    return_val += [reward]\n",
    "    \n",
    "    if done:\n",
    "        print(return_val)\n",
    "        break\n"
   ]
  },
  {
   "cell_type": "code",
   "execution_count": null,
   "metadata": {},
   "outputs": [],
   "source": []
  }
 ],
 "metadata": {
  "kernelspec": {
   "display_name": "Python 3 (ipykernel)",
   "language": "python",
   "name": "python3"
  },
  "language_info": {
   "codemirror_mode": {
    "name": "ipython",
    "version": 3
   },
   "file_extension": ".py",
   "mimetype": "text/x-python",
   "name": "python",
   "nbconvert_exporter": "python",
   "pygments_lexer": "ipython3",
   "version": "3.10.10"
  }
 },
 "nbformat": 4,
 "nbformat_minor": 2
}
