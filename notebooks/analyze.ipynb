{
 "cells": [
  {
   "cell_type": "code",
   "execution_count": 5,
   "metadata": {},
   "outputs": [],
   "source": [
    "import pandas as pd\n",
    "import numpy as np\n",
    "from datetime import datetime, timedelta, date\n",
    "from scipy.spatial.distance import squareform, pdist\n",
    "import os\n",
    "import geopy\n",
    "from geopy import distance"
   ]
  },
  {
   "cell_type": "code",
   "execution_count": 6,
   "metadata": {},
   "outputs": [
    {
     "data": {
      "text/plain": [
       "19.59417004116794"
      ]
     },
     "execution_count": 6,
     "metadata": {},
     "output_type": "execute_result"
    }
   ],
   "source": [
    " # adjacency matrix\n",
    "landLocation = pd.read_csv(\n",
    "    \"../disneyenv/disneyenv/envs/data/landLocation.csv\")\n",
    "walking_speed = 0.0804672  # km/min\n",
    "\n",
    "np.max(squareform(pdist(landLocation[[\n",
    "                                   \"longitude\", \"latitude\"]], lambda u, v: geopy.distance.geodesic(u, v).km/walking_speed)))"
   ]
  },
  {
   "cell_type": "code",
   "execution_count": 8,
   "metadata": {},
   "outputs": [
    {
     "name": "stderr",
     "output_type": "stream",
     "text": [
      "/tmp/ipykernel_110299/2545870254.py:1: DtypeWarning: Columns (3) have mixed types. Specify dtype option on import or set low_memory=False.\n",
      "  df = pd.read_csv(\"../disneyenv/disneyenv/envs/data/disneyRideTimes.csv\")\n"
     ]
    }
   ],
   "source": [
    "df = pd.read_csv(\"../disneyenv/disneyenv/envs/data/disneyRideTimes.csv\")"
   ]
  },
  {
   "cell_type": "code",
   "execution_count": 116,
   "metadata": {},
   "outputs": [],
   "source": [
    "df2 = pd.read_csv(\"../disneyenv/disneyenv/envs/data/hourlyWeather.csv\")"
   ]
  },
  {
   "cell_type": "code",
   "execution_count": 13,
   "metadata": {},
   "outputs": [],
   "source": [
    "ridesinfo = pd.read_csv(\n",
    "            \"../disneyenv/disneyenv/envs/data/rideDuration.csv\")\n",
    "rides = ridesinfo[\"id\"].unique()"
   ]
  },
  {
   "cell_type": "code",
   "execution_count": 119,
   "metadata": {},
   "outputs": [],
   "source": [
    "df2[\"dateTime\"] = pd.to_datetime(df2[\"dateTime\"])\n",
    "df2[\"date\"] = df2[\"dateTime\"].dt.date\n",
    "df2 = df2.set_index(\"dateTime\").sort_index()"
   ]
  },
  {
   "cell_type": "code",
   "execution_count": 9,
   "metadata": {},
   "outputs": [],
   "source": [
    "df[\"dateTime\"] = pd.to_datetime(df[\"dateTime\"])\n",
    "df[\"date\"] = df[\"dateTime\"].dt.date\n",
    "df = df.set_index([\"rideID\", \"dateTime\"]).sort_index()"
   ]
  },
  {
   "cell_type": "code",
   "execution_count": 68,
   "metadata": {},
   "outputs": [],
   "source": [
    "sample_ts = datetime.strptime(\"2018-03-11 08:41:21.330527\", \"%Y-%m-%d %H:%M:%S.%f\")\n",
    "target_df = df[df[\"date\"] == sample_ts.date()]\n",
    "input_waitTime_index = pd.MultiIndex.from_arrays(\n",
    "            [np.array(rides), np.repeat(sample_ts, len(rides))])"
   ]
  },
  {
   "cell_type": "code",
   "execution_count": 69,
   "metadata": {},
   "outputs": [],
   "source": [
    "target_ilocs = target_df.index.get_indexer(input_waitTime_index, method=\"ffill\")\n",
    "valid_targets = np.where(target_ilocs != -1)[0]"
   ]
  },
  {
   "cell_type": "code",
   "execution_count": 70,
   "metadata": {},
   "outputs": [],
   "source": [
    "valid_targets = valid_targets[\n",
    "                target_df.index[target_ilocs[valid_targets]].get_level_values(\n",
    "                    0) == input_waitTime_index[valid_targets].get_level_values(0)]"
   ]
  },
  {
   "cell_type": "code",
   "execution_count": 71,
   "metadata": {},
   "outputs": [],
   "source": [
    "waitTime = np.repeat(np.nan, len(input_waitTime_index))"
   ]
  },
  {
   "cell_type": "code",
   "execution_count": 72,
   "metadata": {},
   "outputs": [],
   "source": [
    "waitTime[valid_targets] = target_df.iloc[target_ilocs[valid_targets]\n",
    "                                                     ].waitMins.values"
   ]
  },
  {
   "cell_type": "code",
   "execution_count": 73,
   "metadata": {},
   "outputs": [],
   "source": [
    "waitTime = np.nan_to_num(waitTime)"
   ]
  },
  {
   "cell_type": "code",
   "execution_count": 74,
   "metadata": {},
   "outputs": [
    {
     "data": {
      "text/plain": [
       "array([ 0.,  5.,  0., 15.,  5.,  0.,  0.,  0.,  0.,  5.,  5.,  5.,  0.,\n",
       "        0., 10.,  5.,  0.,  0.,  0.,  0.,  5.,  0.,  0.,  0.,  0.,  0.,\n",
       "        0.,  5.,  0.,  5.,  0., 10.,  0., 30.,  5.,  0.,  5.,  5.,  0.,\n",
       "        5.,  0.,  0.,  0.,  0.,  0.,  0.,  0.,  0.,  0.,  0.,  0.,  0.,\n",
       "        5.,  0.,  0.,  0.,  0.,  0.,  0.,  0.,  0.,  0.,  0., 10., 15.,\n",
       "        0.,  0.,  0.,  5.,  5.,  5.,  0.,  0.,  0.,  0.,  0.,  0.,  0.,\n",
       "        0.,  0.,  0.,  0.,  5.,  5.,  5.,  0.,  0.,  0., 10.,  5.,  0.,\n",
       "        0.,  0.,  0.,  5.,  0.,  0.,  0.,  0.,  0., 15.,  0.,  0.,  0.,\n",
       "        0.,  0.])"
      ]
     },
     "execution_count": 74,
     "metadata": {},
     "output_type": "execute_result"
    }
   ],
   "source": [
    "waitTime"
   ]
  },
  {
   "cell_type": "code",
   "execution_count": 75,
   "metadata": {},
   "outputs": [],
   "source": [
    "operationStatus = np.repeat(0, len(input_waitTime_index))\n",
    "operationStatus[valid_targets] = (\n",
    "    target_df.iloc[target_ilocs[valid_targets]].status == \"Operating\")"
   ]
  },
  {
   "cell_type": "code",
   "execution_count": 76,
   "metadata": {},
   "outputs": [
    {
     "data": {
      "text/plain": [
       "array([1, 1, 1, 1, 1, 0, 0, 0, 1, 1, 1, 1, 1, 1, 1, 1, 0, 0, 1, 0, 1, 1,\n",
       "       0, 0, 0, 1, 0, 1, 0, 1, 1, 1, 1, 1, 1, 1, 1, 1, 0, 1, 0, 0, 0, 0,\n",
       "       0, 0, 0, 0, 0, 0, 0, 0, 1, 1, 0, 0, 0, 1, 0, 1, 0, 1, 0, 1, 1, 1,\n",
       "       1, 1, 1, 1, 1, 1, 1, 0, 0, 0, 0, 1, 1, 0, 0, 0, 1, 1, 1, 1, 0, 1,\n",
       "       1, 1, 1, 0, 1, 0, 1, 0, 0, 0, 0, 0, 1, 0, 0, 0, 0, 0])"
      ]
     },
     "execution_count": 76,
     "metadata": {},
     "output_type": "execute_result"
    }
   ],
   "source": [
    "operationStatus"
   ]
  },
  {
   "cell_type": "code",
   "execution_count": 35,
   "metadata": {},
   "outputs": [
    {
     "data": {
      "text/plain": [
       "MultiIndex([(353289, '2018-07-24 00:00:14'),\n",
       "            (353289, '2018-07-24 00:30:05'),\n",
       "            (353289, '2018-07-24 01:00:15'),\n",
       "            (353289, '2018-07-24 01:30:04'),\n",
       "            (353289, '2018-07-24 02:00:14'),\n",
       "            (353289, '2018-07-24 02:30:05'),\n",
       "            (353289, '2018-07-24 03:00:15'),\n",
       "            (353289, '2018-07-24 03:30:05'),\n",
       "            (353289, '2018-07-24 04:00:15'),\n",
       "            (353289, '2018-07-24 04:30:04'),\n",
       "            ...\n",
       "            (353293, '2018-07-24 00:00:14'),\n",
       "            (353293, '2018-07-24 00:30:05'),\n",
       "            (353293, '2018-07-24 01:00:15'),\n",
       "            (353293, '2018-07-24 01:30:04'),\n",
       "            (353293, '2018-07-24 02:00:14'),\n",
       "            (353293, '2018-07-24 02:30:05'),\n",
       "            (353293, '2018-07-24 03:00:15'),\n",
       "            (353293, '2018-07-24 03:30:05'),\n",
       "            (353293, '2018-07-24 04:00:15'),\n",
       "            (353293, '2018-07-24 04:30:04')],\n",
       "           names=['rideID', 'dateTime'], length=106)"
      ]
     },
     "execution_count": 35,
     "metadata": {},
     "output_type": "execute_result"
    }
   ],
   "source": [
    "target_df.index[valid_targets]"
   ]
  },
  {
   "cell_type": "code",
   "execution_count": 33,
   "metadata": {},
   "outputs": [
    {
     "data": {
      "text/plain": [
       "UInt64Index([  353289,   353387,   353433,   353451,   353457, 17328049,\n",
       "             18766536, 18774860, 18946452,   353291,\n",
       "             ...\n",
       "             18752875, 18752877, 18848246, 18848247, 16581435, 17328050,\n",
       "             18426726, 18532806, 18693648, 18755618],\n",
       "            dtype='uint64', length=106)"
      ]
     },
     "execution_count": 33,
     "metadata": {},
     "output_type": "execute_result"
    }
   ],
   "source": [
    "input_waitTime_index[valid_targets].get_level_values(0)"
   ]
  },
  {
   "cell_type": "code",
   "execution_count": 30,
   "metadata": {},
   "outputs": [
    {
     "data": {
      "text/plain": [
       "array([0])"
      ]
     },
     "execution_count": 30,
     "metadata": {},
     "output_type": "execute_result"
    }
   ],
   "source": [
    "valid_targets"
   ]
  },
  {
   "cell_type": "code",
   "execution_count": 113,
   "metadata": {},
   "outputs": [
    {
     "data": {
      "text/plain": [
       "array([nan, (18946452, Timestamp('2016-08-24 04:40:05'))], dtype=object)"
      ]
     },
     "execution_count": 113,
     "metadata": {},
     "output_type": "execute_result"
    }
   ],
   "source": [
    "m2 = m.values\n",
    "m2[0] = np.nan\n",
    "\n",
    "m2"
   ]
  },
  {
   "cell_type": "code",
   "execution_count": 136,
   "metadata": {},
   "outputs": [
    {
     "data": {
      "text/plain": [
       "array([ nan,   5.,  45.,  35.,  30.,  40.,  15.,  25.,  20.,  10.,  50.,\n",
       "        60.,  65.,  55.,  70., 105.,  85.,  95.,  75.,  80.,  90.,   0.,\n",
       "       115., 100., 125., 120., 150., 500., 145., 140., 240., 110., 200.,\n",
       "       185., 180., 130., 175., 165.,  13., 190., 160., 135., 210., 170.,\n",
       "       195., 280., 205., 215., 155., 250., 900., 750.])"
      ]
     },
     "execution_count": 136,
     "metadata": {},
     "output_type": "execute_result"
    }
   ],
   "source": [
    "df[df.status == \"Operating\"][\"waitMins\"].unique()"
   ]
  },
  {
   "cell_type": "code",
   "execution_count": 128,
   "metadata": {},
   "outputs": [
    {
     "data": {
      "text/plain": [
       "Closed                 2812\n",
       "Operating              2109\n",
       "Down                    137\n",
       "Operates Seasonally     102\n",
       "Opening Soon             32\n",
       "Extra Magic Hours         2\n",
       "Name: status, dtype: int64"
      ]
     },
     "execution_count": 128,
     "metadata": {},
     "output_type": "execute_result"
    }
   ],
   "source": [
    "df[df.date == exdt][\"status\"].value_counts()"
   ]
  },
  {
   "cell_type": "code",
   "execution_count": 104,
   "metadata": {
    "scrolled": true
   },
   "outputs": [
    {
     "data": {
      "text/plain": [
       "array([2400936])"
      ]
     },
     "execution_count": 104,
     "metadata": {},
     "output_type": "execute_result"
    }
   ],
   "source": [
    "df.index.get_indexer(m, method=\"ffill\")"
   ]
  },
  {
   "cell_type": "code",
   "execution_count": 91,
   "metadata": {},
   "outputs": [],
   "source": [
    "sample_ts = sample_ts - timedelta(days=365)"
   ]
  },
  {
   "cell_type": "code",
   "execution_count": 59,
   "metadata": {},
   "outputs": [],
   "source": [
    "ridesinfo = pd.read_csv(\"../disneyenv/disneyenv/envs/data/rideDuration.csv\")"
   ]
  },
  {
   "cell_type": "code",
   "execution_count": 68,
   "metadata": {},
   "outputs": [],
   "source": [
    "current_date = np.random.choice(avail_dates)"
   ]
  },
  {
   "cell_type": "code",
   "execution_count": 70,
   "metadata": {},
   "outputs": [
    {
     "data": {
      "text/plain": [
       "2018"
      ]
     },
     "execution_count": 70,
     "metadata": {},
     "output_type": "execute_result"
    }
   ],
   "source": [
    "current_date.year"
   ]
  },
  {
   "cell_type": "code",
   "execution_count": 51,
   "metadata": {},
   "outputs": [],
   "source": [
    "rides = ridesinfo[\"id\"].unique()"
   ]
  },
  {
   "cell_type": "code",
   "execution_count": 52,
   "metadata": {},
   "outputs": [
    {
     "data": {
      "text/plain": [
       "array([  0,   1,   2,   3,   4,   5,   6,   7,   8,   9,  10,  11,  12,\n",
       "        13,  14,  15,  16,  17,  18,  19,  20,  21,  22,  23,  24,  25,\n",
       "        26,  27,  28,  29,  30,  31,  32,  33,  34,  35,  36,  37,  38,\n",
       "        39,  40,  41,  42,  43,  44,  45,  46,  47,  48,  49,  50,  51,\n",
       "        52,  53,  54,  55,  56,  57,  58,  59,  60,  61,  62,  63,  64,\n",
       "        65,  66,  67,  68,  69,  70,  71,  72,  73,  74,  75,  76,  77,\n",
       "        78,  79,  80,  81,  82,  83,  84,  85,  86,  87,  88,  89,  90,\n",
       "        91,  92,  93,  94,  95,  96,  97,  98,  99, 100, 101, 102, 103,\n",
       "       104, 105,  -1])"
      ]
     },
     "execution_count": 52,
     "metadata": {},
     "output_type": "execute_result"
    }
   ],
   "source": [
    "np.append(np.arange(len(rides)), -1)"
   ]
  },
  {
   "cell_type": "code",
   "execution_count": 44,
   "metadata": {},
   "outputs": [],
   "source": [
    "from scipy.spatial.distance import squareform, pdist\n",
    "import geopy.distance"
   ]
  },
  {
   "cell_type": "code",
   "execution_count": 34,
   "metadata": {},
   "outputs": [],
   "source": [
    "landLocation = pd.read_csv(\"../disneyenv/disneyenv/envs/data/landLocation.csv\")"
   ]
  },
  {
   "cell_type": "code",
   "execution_count": 42,
   "metadata": {},
   "outputs": [],
   "source": [
    "walking_speed = 0.0804672"
   ]
  },
  {
   "cell_type": "code",
   "execution_count": 28,
   "metadata": {},
   "outputs": [],
   "source": [
    "df[\"dateTime\"] = pd.to_datetime(df[\"dateTime\"])"
   ]
  },
  {
   "cell_type": "code",
   "execution_count": 29,
   "metadata": {},
   "outputs": [],
   "source": [
    "df[\"date\"] = df[\"dateTime\"].dt.date"
   ]
  },
  {
   "cell_type": "code",
   "execution_count": 53,
   "metadata": {},
   "outputs": [],
   "source": [
    "avail_dates = df[\"date\"].unique()"
   ]
  },
  {
   "cell_type": "code",
   "execution_count": 183,
   "metadata": {},
   "outputs": [],
   "source": [
    "exdt = datetime.strptime(\"2017-09-11\", \"%Y-%m-%d\").date()\n"
   ]
  },
  {
   "cell_type": "code",
   "execution_count": 184,
   "metadata": {},
   "outputs": [
    {
     "data": {
      "text/plain": [
       "5.0      361\n",
       "10.0     234\n",
       "15.0     168\n",
       "20.0      97\n",
       "30.0      84\n",
       "25.0      71\n",
       "45.0      56\n",
       "35.0      56\n",
       "40.0      38\n",
       "60.0      14\n",
       "90.0      10\n",
       "0.0       10\n",
       "65.0      10\n",
       "55.0       9\n",
       "75.0       5\n",
       "50.0       4\n",
       "70.0       2\n",
       "80.0       2\n",
       "120.0      1\n",
       "Name: waitMins, dtype: int64"
      ]
     },
     "execution_count": 184,
     "metadata": {},
     "output_type": "execute_result"
    }
   ],
   "source": [
    "df[df[\"date\"] == exdt].waitMins.value_counts()"
   ]
  },
  {
   "cell_type": "code",
   "execution_count": 43,
   "metadata": {
    "scrolled": true
   },
   "outputs": [
    {
     "data": {
      "text/html": [
       "<div>\n",
       "<style scoped>\n",
       "    .dataframe tbody tr th:only-of-type {\n",
       "        vertical-align: middle;\n",
       "    }\n",
       "\n",
       "    .dataframe tbody tr th {\n",
       "        vertical-align: top;\n",
       "    }\n",
       "\n",
       "    .dataframe thead th {\n",
       "        text-align: right;\n",
       "    }\n",
       "</style>\n",
       "<table border=\"1\" class=\"dataframe\">\n",
       "  <thead>\n",
       "    <tr style=\"text-align: right;\">\n",
       "      <th></th>\n",
       "      <th>rideID</th>\n",
       "      <th>dateTime</th>\n",
       "      <th>waitMins</th>\n",
       "      <th>fastPassTime</th>\n",
       "      <th>status</th>\n",
       "      <th>date</th>\n",
       "    </tr>\n",
       "  </thead>\n",
       "  <tbody>\n",
       "    <tr>\n",
       "      <th>22544</th>\n",
       "      <td>353291</td>\n",
       "      <td>2017-05-22 09:30:07</td>\n",
       "      <td>5.0</td>\n",
       "      <td>NaN</td>\n",
       "      <td>Operating</td>\n",
       "      <td>2017-05-22</td>\n",
       "    </tr>\n",
       "    <tr>\n",
       "      <th>22545</th>\n",
       "      <td>353291</td>\n",
       "      <td>2017-05-22 10:30:15</td>\n",
       "      <td>45.0</td>\n",
       "      <td>NaN</td>\n",
       "      <td>Operating</td>\n",
       "      <td>2017-05-22</td>\n",
       "    </tr>\n",
       "    <tr>\n",
       "      <th>22546</th>\n",
       "      <td>353291</td>\n",
       "      <td>2017-05-22 11:30:15</td>\n",
       "      <td>35.0</td>\n",
       "      <td>NaN</td>\n",
       "      <td>Operating</td>\n",
       "      <td>2017-05-22</td>\n",
       "    </tr>\n",
       "    <tr>\n",
       "      <th>22547</th>\n",
       "      <td>353291</td>\n",
       "      <td>2017-05-22 12:30:15</td>\n",
       "      <td>30.0</td>\n",
       "      <td>NaN</td>\n",
       "      <td>Operating</td>\n",
       "      <td>2017-05-22</td>\n",
       "    </tr>\n",
       "    <tr>\n",
       "      <th>22548</th>\n",
       "      <td>353291</td>\n",
       "      <td>2017-05-22 13:30:06</td>\n",
       "      <td>45.0</td>\n",
       "      <td>NaN</td>\n",
       "      <td>Operating</td>\n",
       "      <td>2017-05-22</td>\n",
       "    </tr>\n",
       "    <tr>\n",
       "      <th>...</th>\n",
       "      <td>...</td>\n",
       "      <td>...</td>\n",
       "      <td>...</td>\n",
       "      <td>...</td>\n",
       "      <td>...</td>\n",
       "      <td>...</td>\n",
       "    </tr>\n",
       "    <tr>\n",
       "      <th>2354379</th>\n",
       "      <td>18774860</td>\n",
       "      <td>2017-10-31 19:00:12</td>\n",
       "      <td>75.0</td>\n",
       "      <td>NaN</td>\n",
       "      <td>Operating</td>\n",
       "      <td>2017-10-31</td>\n",
       "    </tr>\n",
       "    <tr>\n",
       "      <th>2354380</th>\n",
       "      <td>18774860</td>\n",
       "      <td>2017-10-31 19:30:05</td>\n",
       "      <td>75.0</td>\n",
       "      <td>NaN</td>\n",
       "      <td>Operating</td>\n",
       "      <td>2017-10-31</td>\n",
       "    </tr>\n",
       "    <tr>\n",
       "      <th>2354381</th>\n",
       "      <td>18774860</td>\n",
       "      <td>2017-10-31 20:00:12</td>\n",
       "      <td>55.0</td>\n",
       "      <td>NaN</td>\n",
       "      <td>Operating</td>\n",
       "      <td>2017-10-31</td>\n",
       "    </tr>\n",
       "    <tr>\n",
       "      <th>2354382</th>\n",
       "      <td>18774860</td>\n",
       "      <td>2017-10-31 20:30:04</td>\n",
       "      <td>55.0</td>\n",
       "      <td>NaN</td>\n",
       "      <td>Operating</td>\n",
       "      <td>2017-10-31</td>\n",
       "    </tr>\n",
       "    <tr>\n",
       "      <th>2354383</th>\n",
       "      <td>18774860</td>\n",
       "      <td>2017-10-31 21:00:12</td>\n",
       "      <td>55.0</td>\n",
       "      <td>NaN</td>\n",
       "      <td>Operating</td>\n",
       "      <td>2017-10-31</td>\n",
       "    </tr>\n",
       "  </tbody>\n",
       "</table>\n",
       "<p>668748 rows × 6 columns</p>\n",
       "</div>"
      ],
      "text/plain": [
       "           rideID             dateTime  waitMins fastPassTime     status  \\\n",
       "22544      353291  2017-05-22 09:30:07       5.0          NaN  Operating   \n",
       "22545      353291  2017-05-22 10:30:15      45.0          NaN  Operating   \n",
       "22546      353291  2017-05-22 11:30:15      35.0          NaN  Operating   \n",
       "22547      353291  2017-05-22 12:30:15      30.0          NaN  Operating   \n",
       "22548      353291  2017-05-22 13:30:06      45.0          NaN  Operating   \n",
       "...           ...                  ...       ...          ...        ...   \n",
       "2354379  18774860  2017-10-31 19:00:12      75.0          NaN  Operating   \n",
       "2354380  18774860  2017-10-31 19:30:05      75.0          NaN  Operating   \n",
       "2354381  18774860  2017-10-31 20:00:12      55.0          NaN  Operating   \n",
       "2354382  18774860  2017-10-31 20:30:04      55.0          NaN  Operating   \n",
       "2354383  18774860  2017-10-31 21:00:12      55.0          NaN  Operating   \n",
       "\n",
       "               date  \n",
       "22544    2017-05-22  \n",
       "22545    2017-05-22  \n",
       "22546    2017-05-22  \n",
       "22547    2017-05-22  \n",
       "22548    2017-05-22  \n",
       "...             ...  \n",
       "2354379  2017-10-31  \n",
       "2354380  2017-10-31  \n",
       "2354381  2017-10-31  \n",
       "2354382  2017-10-31  \n",
       "2354383  2017-10-31  \n",
       "\n",
       "[668748 rows x 6 columns]"
      ]
     },
     "execution_count": 43,
     "metadata": {},
     "output_type": "execute_result"
    }
   ],
   "source": [
    "df[(df[\"status\"] == \"Operating\") & (~(df[\"waitMins\"].isna()))]"
   ]
  },
  {
   "cell_type": "code",
   "execution_count": 51,
   "metadata": {},
   "outputs": [
    {
     "data": {
      "text/plain": [
       "date\n",
       "2017-09-06    52\n",
       "2017-08-30    53\n",
       "2017-09-10    53\n",
       "2017-09-09    53\n",
       "2017-09-08    53\n",
       "              ..\n",
       "2017-08-11    91\n",
       "2017-08-07    91\n",
       "2017-08-08    91\n",
       "2017-08-10    91\n",
       "2017-08-06    91\n",
       "Name: rideID, Length: 482, dtype: int64"
      ]
     },
     "execution_count": 51,
     "metadata": {},
     "output_type": "execute_result"
    }
   ],
   "source": [
    "open_df.groupby(\"date\")[\"rideID\"].nunique().sort_values()"
   ]
  },
  {
   "cell_type": "code",
   "execution_count": null,
   "metadata": {},
   "outputs": [],
   "source": []
  }
 ],
 "metadata": {
  "kernelspec": {
   "display_name": "Python 3 (ipykernel)",
   "language": "python",
   "name": "python3"
  },
  "language_info": {
   "codemirror_mode": {
    "name": "ipython",
    "version": 3
   },
   "file_extension": ".py",
   "mimetype": "text/x-python",
   "name": "python",
   "nbconvert_exporter": "python",
   "pygments_lexer": "ipython3",
   "version": "3.10.10"
  }
 },
 "nbformat": 4,
 "nbformat_minor": 2
}
