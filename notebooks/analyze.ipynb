{
 "cells": [
  {
   "cell_type": "code",
   "execution_count": 18,
   "metadata": {},
   "outputs": [],
   "source": [
    "import pandas as pd\n",
    "import numpy as np\n",
    "from datetime import datetime, timedelta, date\n",
    "from scipy.spatial.distance import squareform, pdist\n",
    "import os\n",
    "import geopy\n",
    "from geopy import distance"
   ]
  },
  {
   "cell_type": "code",
   "execution_count": 3,
   "metadata": {},
   "outputs": [
    {
     "data": {
      "text/plain": [
       "array([[ 0.        ,  6.29793434,  7.59231886,  6.72144458,  8.47547891,\n",
       "        10.8398949 ,  9.23438658,  4.42746857,  6.43210074, 15.27367324,\n",
       "         8.4711075 ,  4.43150511,  6.98223266,  4.08052913,  3.20920805,\n",
       "         1.91928679,  7.98649939],\n",
       "       [ 6.29793434,  0.        ,  3.94487915, 11.69862874,  2.84048225,\n",
       "         4.77305836,  6.72184337,  3.14041845,  3.32758393,  9.0552489 ,\n",
       "        11.72166912,  8.54145473,  5.30475721,  9.51972268,  9.20627751,\n",
       "         6.30880917,  5.73553632],\n",
       "       [ 7.59231886,  3.94487915,  0.        , 10.70657401,  2.52043328,\n",
       "         4.64300916,  2.78603503,  3.18602785,  1.16637167,  8.91580397,\n",
       "         9.56140851,  7.58226124,  2.05302365,  9.25782968,  9.53521785,\n",
       "         6.53538017,  1.96524785],\n",
       "       [ 6.72144458, 11.69862874, 10.70657401,  0.        , 12.7501009 ,\n",
       "        15.18102084, 10.55716871,  8.6827938 ,  9.90069096, 19.59417004,\n",
       "         3.57220657,  3.20754645,  8.91760654,  2.66572014,  3.91595377,\n",
       "         5.57229488,  9.73860711],\n",
       "       [ 8.47547891,  2.84048225,  2.52043328, 12.7501009 ,  0.        ,\n",
       "         2.46434999,  4.98996952,  4.28935758,  2.89280961,  6.9525613 ,\n",
       "        11.95665706,  9.55163483,  4.544168  , 10.9755509 , 10.98346366,\n",
       "         7.93234914,  4.44163701],\n",
       "       [10.8398949 ,  4.77305836,  4.64300916, 15.18102084,  2.46434999,\n",
       "         0.        ,  6.47256934,  6.74811738,  5.28368544,  4.49121408,\n",
       "        14.20415969, 11.99149168,  6.68200654, 13.43976271, 13.43420265,\n",
       "        10.38744236,  6.31974735],\n",
       "       [ 9.23438658,  6.72184337,  2.78603503, 10.55716871,  4.98996952,\n",
       "         6.47256934,  0.        ,  5.25310799,  3.56410542, 10.07768623,\n",
       "         8.52592182,  7.8022255 ,  2.25215674,  9.77625124, 10.42061399,\n",
       "         7.73751341,  1.26176188],\n",
       "       [ 4.42746857,  3.14041845,  3.18602785,  8.6827938 ,  4.28935758,\n",
       "         6.74811738,  5.25310799,  0.        ,  2.01969612, 11.23925055,\n",
       "         8.58998786,  5.48579248,  3.151148  ,  6.71870014,  6.69766465,\n",
       "         3.64400351,  4.00780345],\n",
       "       [ 6.43210074,  3.32758393,  1.16637167,  9.90069096,  2.89280961,\n",
       "         5.28368544,  3.56410542,  2.01969612,  0.        ,  9.70436134,\n",
       "         9.0961941 ,  6.72153136,  1.99526848,  8.28093302,  8.47101438,\n",
       "         5.44170357,  2.45004306],\n",
       "       [15.27367324,  9.0552489 ,  8.91580397, 19.59417004,  6.9525613 ,\n",
       "         4.49121408, 10.07768623, 11.23925055,  9.70436134,  0.        ,\n",
       "        18.35710511, 16.42547852, 10.86376329, 17.92249194, 17.9235166 ,\n",
       "        14.87833579, 10.2981392 ],\n",
       "       [ 8.4711075 , 11.72166912,  9.56140851,  3.57220657, 11.95665706,\n",
       "        14.20415969,  8.52592182,  8.58998786,  9.0961941 , 18.35710511,\n",
       "         0.        ,  4.03960939,  7.52959969,  5.22018454,  6.61966168,\n",
       "         6.73846825,  8.06799529],\n",
       "       [ 4.43150511,  8.54145473,  7.58226124,  3.20754645,  9.55163483,\n",
       "        11.99149168,  7.8022255 ,  5.48579248,  6.72153136, 16.42547852,\n",
       "         4.03960939,  0.        ,  5.92194681,  2.06724714,  3.14778212,\n",
       "         2.75987954,  6.82944667],\n",
       "       [ 6.98223266,  5.30475721,  2.05302365,  8.91760654,  4.544168  ,\n",
       "         6.68200654,  2.25215674,  3.151148  ,  1.99526848, 10.86376329,\n",
       "         7.52959969,  5.92194681,  0.        ,  7.78306845,  8.29897395,\n",
       "         5.51673052,  1.017824  ],\n",
       "       [ 4.08052913,  9.51972268,  9.25782968,  2.66572014, 10.9755509 ,\n",
       "        13.43976271,  9.77625124,  6.71870014,  8.28093302, 17.92249194,\n",
       "         5.22018454,  2.06724714,  7.78306845,  0.        ,  1.40499696,\n",
       "         3.21434635,  8.73818238],\n",
       "       [ 3.20920805,  9.20627751,  9.53521785,  3.91595377, 10.98346366,\n",
       "        13.43420265, 10.42061399,  6.69766465,  8.47101438, 17.9235166 ,\n",
       "         6.61966168,  3.14778212,  8.29897395,  1.40499696,  0.        ,\n",
       "         3.05527876,  9.29647463],\n",
       "       [ 1.91928679,  6.30880917,  6.53538017,  5.57229488,  7.93234914,\n",
       "        10.38744236,  7.73751341,  3.64400351,  5.44170357, 14.87833579,\n",
       "         6.73846825,  2.75987954,  5.51673052,  3.21434635,  3.05527876,\n",
       "         0.        ,  6.53428245],\n",
       "       [ 7.98649939,  5.73553632,  1.96524785,  9.73860711,  4.44163701,\n",
       "         6.31974735,  1.26176188,  4.00780345,  2.45004306, 10.2981392 ,\n",
       "         8.06799529,  6.82944667,  1.017824  ,  8.73818238,  9.29647463,\n",
       "         6.53428245,  0.        ]])"
      ]
     },
     "execution_count": 3,
     "metadata": {},
     "output_type": "execute_result"
    }
   ],
   "source": [
    " # adjacency matrix\n",
    "landLocation = pd.read_csv(\n",
    "    \"../disneyenv/disneyenv/envs/data/landLocation.csv\")\n",
    "walking_speed = 0.0804672  # km/min\n",
    "\n",
    "squareform(pdist(landLocation[[\n",
    "                \"longitude\", \"latitude\"]], lambda u, v: geopy.distance.geodesic(u, v).km/walking_speed))"
   ]
  },
  {
   "cell_type": "code",
   "execution_count": 5,
   "metadata": {},
   "outputs": [
    {
     "name": "stderr",
     "output_type": "stream",
     "text": [
      "/tmp/ipykernel_115947/1302428089.py:1: DtypeWarning: Columns (3) have mixed types. Specify dtype option on import or set low_memory=False.\n",
      "  df = pd.read_csv(\"../disneyenv/disneyenv/envs/data/disneyRideTimes.csv\")\n"
     ]
    }
   ],
   "source": [
    "df = pd.read_csv(\"../disneyenv/disneyenv/envs/data/disneyRideTimes.csv\")\n",
    "df2 = pd.read_csv(\"../disneyenv/disneyenv/envs/data/hourlyWeather.csv\")"
   ]
  },
  {
   "cell_type": "code",
   "execution_count": 17,
   "metadata": {},
   "outputs": [
    {
     "data": {
      "text/plain": [
       "Series([], Name: waitMins, dtype: int64)"
      ]
     },
     "execution_count": 17,
     "metadata": {},
     "output_type": "execute_result"
    }
   ],
   "source": [
    "df[df.rideID == 18755618].waitMins.value_counts()"
   ]
  },
  {
   "cell_type": "code",
   "execution_count": 12,
   "metadata": {},
   "outputs": [
    {
     "data": {
      "text/plain": [
       "900.0"
      ]
     },
     "execution_count": 12,
     "metadata": {},
     "output_type": "execute_result"
    }
   ],
   "source": [
    "df.waitMins.max()"
   ]
  },
  {
   "cell_type": "code",
   "execution_count": 11,
   "metadata": {},
   "outputs": [
    {
     "data": {
      "text/plain": [
       "115"
      ]
     },
     "execution_count": 11,
     "metadata": {},
     "output_type": "execute_result"
    }
   ],
   "source": [
    "df2.feelsLikeF.max()"
   ]
  },
  {
   "cell_type": "code",
   "execution_count": 13,
   "metadata": {},
   "outputs": [],
   "source": [
    "ridesinfo = pd.read_csv(\n",
    "            \"../disneyenv/disneyenv/envs/data/rideDuration.csv\")\n",
    "rides = ridesinfo[\"id\"].unique()"
   ]
  },
  {
   "cell_type": "code",
   "execution_count": 119,
   "metadata": {},
   "outputs": [],
   "source": [
    "df2[\"dateTime\"] = pd.to_datetime(df2[\"dateTime\"])\n",
    "df2[\"date\"] = df2[\"dateTime\"].dt.date\n",
    "df2 = df2.set_index(\"dateTime\").sort_index()"
   ]
  },
  {
   "cell_type": "code",
   "execution_count": 9,
   "metadata": {},
   "outputs": [],
   "source": [
    "df[\"dateTime\"] = pd.to_datetime(df[\"dateTime\"])\n",
    "df[\"date\"] = df[\"dateTime\"].dt.date\n",
    "df = df.set_index([\"rideID\", \"dateTime\"]).sort_index()"
   ]
  },
  {
   "cell_type": "code",
   "execution_count": 37,
   "metadata": {},
   "outputs": [
    {
     "ename": "KeyError",
     "evalue": "'date'",
     "output_type": "error",
     "traceback": [
      "\u001b[0;31m---------------------------------------------------------------------------\u001b[0m",
      "\u001b[0;31mKeyError\u001b[0m                                  Traceback (most recent call last)",
      "File \u001b[0;32m~/.conda/envs/ds3001-007/lib/python3.10/site-packages/pandas/core/indexes/base.py:3802\u001b[0m, in \u001b[0;36mIndex.get_loc\u001b[0;34m(self, key, method, tolerance)\u001b[0m\n\u001b[1;32m   3801\u001b[0m \u001b[38;5;28;01mtry\u001b[39;00m:\n\u001b[0;32m-> 3802\u001b[0m     \u001b[38;5;28;01mreturn\u001b[39;00m \u001b[38;5;28;43mself\u001b[39;49m\u001b[38;5;241;43m.\u001b[39;49m\u001b[43m_engine\u001b[49m\u001b[38;5;241;43m.\u001b[39;49m\u001b[43mget_loc\u001b[49m\u001b[43m(\u001b[49m\u001b[43mcasted_key\u001b[49m\u001b[43m)\u001b[49m\n\u001b[1;32m   3803\u001b[0m \u001b[38;5;28;01mexcept\u001b[39;00m \u001b[38;5;167;01mKeyError\u001b[39;00m \u001b[38;5;28;01mas\u001b[39;00m err:\n",
      "File \u001b[0;32m~/.conda/envs/ds3001-007/lib/python3.10/site-packages/pandas/_libs/index.pyx:138\u001b[0m, in \u001b[0;36mpandas._libs.index.IndexEngine.get_loc\u001b[0;34m()\u001b[0m\n",
      "File \u001b[0;32m~/.conda/envs/ds3001-007/lib/python3.10/site-packages/pandas/_libs/index.pyx:165\u001b[0m, in \u001b[0;36mpandas._libs.index.IndexEngine.get_loc\u001b[0;34m()\u001b[0m\n",
      "File \u001b[0;32mpandas/_libs/hashtable_class_helper.pxi:5745\u001b[0m, in \u001b[0;36mpandas._libs.hashtable.PyObjectHashTable.get_item\u001b[0;34m()\u001b[0m\n",
      "File \u001b[0;32mpandas/_libs/hashtable_class_helper.pxi:5753\u001b[0m, in \u001b[0;36mpandas._libs.hashtable.PyObjectHashTable.get_item\u001b[0;34m()\u001b[0m\n",
      "\u001b[0;31mKeyError\u001b[0m: 'date'",
      "\nThe above exception was the direct cause of the following exception:\n",
      "\u001b[0;31mKeyError\u001b[0m                                  Traceback (most recent call last)",
      "Cell \u001b[0;32mIn[37], line 2\u001b[0m\n\u001b[1;32m      1\u001b[0m sample_ts \u001b[38;5;241m=\u001b[39m datetime\u001b[38;5;241m.\u001b[39mstrptime(\u001b[38;5;124m\"\u001b[39m\u001b[38;5;124m2018-03-11 08:41:21.330527\u001b[39m\u001b[38;5;124m\"\u001b[39m, \u001b[38;5;124m\"\u001b[39m\u001b[38;5;124m%\u001b[39m\u001b[38;5;124mY-\u001b[39m\u001b[38;5;124m%\u001b[39m\u001b[38;5;124mm-\u001b[39m\u001b[38;5;132;01m%d\u001b[39;00m\u001b[38;5;124m \u001b[39m\u001b[38;5;124m%\u001b[39m\u001b[38;5;124mH:\u001b[39m\u001b[38;5;124m%\u001b[39m\u001b[38;5;124mM:\u001b[39m\u001b[38;5;124m%\u001b[39m\u001b[38;5;124mS.\u001b[39m\u001b[38;5;132;01m%f\u001b[39;00m\u001b[38;5;124m\"\u001b[39m)\n\u001b[0;32m----> 2\u001b[0m target_df \u001b[38;5;241m=\u001b[39m df[\u001b[43mdf\u001b[49m\u001b[43m[\u001b[49m\u001b[38;5;124;43m\"\u001b[39;49m\u001b[38;5;124;43mdate\u001b[39;49m\u001b[38;5;124;43m\"\u001b[39;49m\u001b[43m]\u001b[49m \u001b[38;5;241m==\u001b[39m sample_ts\u001b[38;5;241m.\u001b[39mdate()]\n\u001b[1;32m      3\u001b[0m input_waitTime_index \u001b[38;5;241m=\u001b[39m pd\u001b[38;5;241m.\u001b[39mMultiIndex\u001b[38;5;241m.\u001b[39mfrom_arrays(\n\u001b[1;32m      4\u001b[0m             [np\u001b[38;5;241m.\u001b[39marray(rides), np\u001b[38;5;241m.\u001b[39mrepeat(sample_ts, \u001b[38;5;28mlen\u001b[39m(rides))])\n",
      "File \u001b[0;32m~/.conda/envs/ds3001-007/lib/python3.10/site-packages/pandas/core/frame.py:3807\u001b[0m, in \u001b[0;36mDataFrame.__getitem__\u001b[0;34m(self, key)\u001b[0m\n\u001b[1;32m   3805\u001b[0m \u001b[38;5;28;01mif\u001b[39;00m \u001b[38;5;28mself\u001b[39m\u001b[38;5;241m.\u001b[39mcolumns\u001b[38;5;241m.\u001b[39mnlevels \u001b[38;5;241m>\u001b[39m \u001b[38;5;241m1\u001b[39m:\n\u001b[1;32m   3806\u001b[0m     \u001b[38;5;28;01mreturn\u001b[39;00m \u001b[38;5;28mself\u001b[39m\u001b[38;5;241m.\u001b[39m_getitem_multilevel(key)\n\u001b[0;32m-> 3807\u001b[0m indexer \u001b[38;5;241m=\u001b[39m \u001b[38;5;28;43mself\u001b[39;49m\u001b[38;5;241;43m.\u001b[39;49m\u001b[43mcolumns\u001b[49m\u001b[38;5;241;43m.\u001b[39;49m\u001b[43mget_loc\u001b[49m\u001b[43m(\u001b[49m\u001b[43mkey\u001b[49m\u001b[43m)\u001b[49m\n\u001b[1;32m   3808\u001b[0m \u001b[38;5;28;01mif\u001b[39;00m is_integer(indexer):\n\u001b[1;32m   3809\u001b[0m     indexer \u001b[38;5;241m=\u001b[39m [indexer]\n",
      "File \u001b[0;32m~/.conda/envs/ds3001-007/lib/python3.10/site-packages/pandas/core/indexes/base.py:3804\u001b[0m, in \u001b[0;36mIndex.get_loc\u001b[0;34m(self, key, method, tolerance)\u001b[0m\n\u001b[1;32m   3802\u001b[0m     \u001b[38;5;28;01mreturn\u001b[39;00m \u001b[38;5;28mself\u001b[39m\u001b[38;5;241m.\u001b[39m_engine\u001b[38;5;241m.\u001b[39mget_loc(casted_key)\n\u001b[1;32m   3803\u001b[0m \u001b[38;5;28;01mexcept\u001b[39;00m \u001b[38;5;167;01mKeyError\u001b[39;00m \u001b[38;5;28;01mas\u001b[39;00m err:\n\u001b[0;32m-> 3804\u001b[0m     \u001b[38;5;28;01mraise\u001b[39;00m \u001b[38;5;167;01mKeyError\u001b[39;00m(key) \u001b[38;5;28;01mfrom\u001b[39;00m \u001b[38;5;21;01merr\u001b[39;00m\n\u001b[1;32m   3805\u001b[0m \u001b[38;5;28;01mexcept\u001b[39;00m \u001b[38;5;167;01mTypeError\u001b[39;00m:\n\u001b[1;32m   3806\u001b[0m     \u001b[38;5;66;03m# If we have a listlike key, _check_indexing_error will raise\u001b[39;00m\n\u001b[1;32m   3807\u001b[0m     \u001b[38;5;66;03m#  InvalidIndexError. Otherwise we fall through and re-raise\u001b[39;00m\n\u001b[1;32m   3808\u001b[0m     \u001b[38;5;66;03m#  the TypeError.\u001b[39;00m\n\u001b[1;32m   3809\u001b[0m     \u001b[38;5;28mself\u001b[39m\u001b[38;5;241m.\u001b[39m_check_indexing_error(key)\n",
      "\u001b[0;31mKeyError\u001b[0m: 'date'"
     ]
    }
   ],
   "source": [
    "sample_ts = datetime.strptime(\"2018-03-11 08:41:21.330527\", \"%Y-%m-%d %H:%M:%S.%f\")\n",
    "target_df = df[df[\"date\"] == sample_ts.date()]\n",
    "input_waitTime_index = pd.MultiIndex.from_arrays(\n",
    "            [np.array(rides), np.repeat(sample_ts, len(rides))])"
   ]
  },
  {
   "cell_type": "code",
   "execution_count": 45,
   "metadata": {},
   "outputs": [
    {
     "data": {
      "text/plain": [
       "31281.330527"
      ]
     },
     "execution_count": 45,
     "metadata": {},
     "output_type": "execute_result"
    }
   ],
   "source": [
    "(sample_ts - datetime.combine(sample_ts.date(),\n",
    "                               datetime.min.time())).total_seconds()"
   ]
  },
  {
   "cell_type": "code",
   "execution_count": 44,
   "metadata": {},
   "outputs": [
    {
     "data": {
      "text/plain": [
       "0.04923274855158727"
      ]
     },
     "execution_count": 44,
     "metadata": {},
     "output_type": "execute_result"
    }
   ],
   "source": [
    "((sample_ts - datetime.combine(sample_ts.date(),\n",
    "                               datetime.min.time())).total_seconds() - 28800) / 50400"
   ]
  },
  {
   "cell_type": "code",
   "execution_count": 69,
   "metadata": {},
   "outputs": [],
   "source": [
    "target_ilocs = target_df.index.get_indexer(input_waitTime_index, method=\"ffill\")\n",
    "valid_targets = np.where(target_ilocs != -1)[0]"
   ]
  },
  {
   "cell_type": "code",
   "execution_count": 70,
   "metadata": {},
   "outputs": [],
   "source": [
    "valid_targets = valid_targets[\n",
    "                target_df.index[target_ilocs[valid_targets]].get_level_values(\n",
    "                    0) == input_waitTime_index[valid_targets].get_level_values(0)]"
   ]
  },
  {
   "cell_type": "code",
   "execution_count": 71,
   "metadata": {},
   "outputs": [],
   "source": [
    "waitTime = np.repeat(np.nan, len(input_waitTime_index))"
   ]
  },
  {
   "cell_type": "code",
   "execution_count": 72,
   "metadata": {},
   "outputs": [],
   "source": [
    "waitTime[valid_targets] = target_df.iloc[target_ilocs[valid_targets]\n",
    "                                                     ].waitMins.values"
   ]
  },
  {
   "cell_type": "code",
   "execution_count": 73,
   "metadata": {},
   "outputs": [],
   "source": [
    "waitTime = np.nan_to_num(waitTime)"
   ]
  },
  {
   "cell_type": "code",
   "execution_count": 74,
   "metadata": {},
   "outputs": [
    {
     "data": {
      "text/plain": [
       "array([ 0.,  5.,  0., 15.,  5.,  0.,  0.,  0.,  0.,  5.,  5.,  5.,  0.,\n",
       "        0., 10.,  5.,  0.,  0.,  0.,  0.,  5.,  0.,  0.,  0.,  0.,  0.,\n",
       "        0.,  5.,  0.,  5.,  0., 10.,  0., 30.,  5.,  0.,  5.,  5.,  0.,\n",
       "        5.,  0.,  0.,  0.,  0.,  0.,  0.,  0.,  0.,  0.,  0.,  0.,  0.,\n",
       "        5.,  0.,  0.,  0.,  0.,  0.,  0.,  0.,  0.,  0.,  0., 10., 15.,\n",
       "        0.,  0.,  0.,  5.,  5.,  5.,  0.,  0.,  0.,  0.,  0.,  0.,  0.,\n",
       "        0.,  0.,  0.,  0.,  5.,  5.,  5.,  0.,  0.,  0., 10.,  5.,  0.,\n",
       "        0.,  0.,  0.,  5.,  0.,  0.,  0.,  0.,  0., 15.,  0.,  0.,  0.,\n",
       "        0.,  0.])"
      ]
     },
     "execution_count": 74,
     "metadata": {},
     "output_type": "execute_result"
    }
   ],
   "source": [
    "waitTime"
   ]
  },
  {
   "cell_type": "code",
   "execution_count": 75,
   "metadata": {},
   "outputs": [],
   "source": [
    "operationStatus = np.repeat(0, len(input_waitTime_index))\n",
    "operationStatus[valid_targets] = (\n",
    "    target_df.iloc[target_ilocs[valid_targets]].status == \"Operating\")"
   ]
  },
  {
   "cell_type": "code",
   "execution_count": 76,
   "metadata": {},
   "outputs": [
    {
     "data": {
      "text/plain": [
       "array([1, 1, 1, 1, 1, 0, 0, 0, 1, 1, 1, 1, 1, 1, 1, 1, 0, 0, 1, 0, 1, 1,\n",
       "       0, 0, 0, 1, 0, 1, 0, 1, 1, 1, 1, 1, 1, 1, 1, 1, 0, 1, 0, 0, 0, 0,\n",
       "       0, 0, 0, 0, 0, 0, 0, 0, 1, 1, 0, 0, 0, 1, 0, 1, 0, 1, 0, 1, 1, 1,\n",
       "       1, 1, 1, 1, 1, 1, 1, 0, 0, 0, 0, 1, 1, 0, 0, 0, 1, 1, 1, 1, 0, 1,\n",
       "       1, 1, 1, 0, 1, 0, 1, 0, 0, 0, 0, 0, 1, 0, 0, 0, 0, 0])"
      ]
     },
     "execution_count": 76,
     "metadata": {},
     "output_type": "execute_result"
    }
   ],
   "source": [
    "operationStatus"
   ]
  },
  {
   "cell_type": "code",
   "execution_count": 35,
   "metadata": {},
   "outputs": [
    {
     "data": {
      "text/plain": [
       "MultiIndex([(353289, '2018-07-24 00:00:14'),\n",
       "            (353289, '2018-07-24 00:30:05'),\n",
       "            (353289, '2018-07-24 01:00:15'),\n",
       "            (353289, '2018-07-24 01:30:04'),\n",
       "            (353289, '2018-07-24 02:00:14'),\n",
       "            (353289, '2018-07-24 02:30:05'),\n",
       "            (353289, '2018-07-24 03:00:15'),\n",
       "            (353289, '2018-07-24 03:30:05'),\n",
       "            (353289, '2018-07-24 04:00:15'),\n",
       "            (353289, '2018-07-24 04:30:04'),\n",
       "            ...\n",
       "            (353293, '2018-07-24 00:00:14'),\n",
       "            (353293, '2018-07-24 00:30:05'),\n",
       "            (353293, '2018-07-24 01:00:15'),\n",
       "            (353293, '2018-07-24 01:30:04'),\n",
       "            (353293, '2018-07-24 02:00:14'),\n",
       "            (353293, '2018-07-24 02:30:05'),\n",
       "            (353293, '2018-07-24 03:00:15'),\n",
       "            (353293, '2018-07-24 03:30:05'),\n",
       "            (353293, '2018-07-24 04:00:15'),\n",
       "            (353293, '2018-07-24 04:30:04')],\n",
       "           names=['rideID', 'dateTime'], length=106)"
      ]
     },
     "execution_count": 35,
     "metadata": {},
     "output_type": "execute_result"
    }
   ],
   "source": [
    "target_df.index[valid_targets]"
   ]
  },
  {
   "cell_type": "code",
   "execution_count": 33,
   "metadata": {},
   "outputs": [
    {
     "data": {
      "text/plain": [
       "UInt64Index([  353289,   353387,   353433,   353451,   353457, 17328049,\n",
       "             18766536, 18774860, 18946452,   353291,\n",
       "             ...\n",
       "             18752875, 18752877, 18848246, 18848247, 16581435, 17328050,\n",
       "             18426726, 18532806, 18693648, 18755618],\n",
       "            dtype='uint64', length=106)"
      ]
     },
     "execution_count": 33,
     "metadata": {},
     "output_type": "execute_result"
    }
   ],
   "source": [
    "input_waitTime_index[valid_targets].get_level_values(0)"
   ]
  },
  {
   "cell_type": "code",
   "execution_count": 30,
   "metadata": {},
   "outputs": [
    {
     "data": {
      "text/plain": [
       "array([0])"
      ]
     },
     "execution_count": 30,
     "metadata": {},
     "output_type": "execute_result"
    }
   ],
   "source": [
    "valid_targets"
   ]
  },
  {
   "cell_type": "code",
   "execution_count": 113,
   "metadata": {},
   "outputs": [
    {
     "data": {
      "text/plain": [
       "array([nan, (18946452, Timestamp('2016-08-24 04:40:05'))], dtype=object)"
      ]
     },
     "execution_count": 113,
     "metadata": {},
     "output_type": "execute_result"
    }
   ],
   "source": [
    "m2 = m.values\n",
    "m2[0] = np.nan\n",
    "\n",
    "m2"
   ]
  },
  {
   "cell_type": "code",
   "execution_count": 136,
   "metadata": {},
   "outputs": [
    {
     "data": {
      "text/plain": [
       "array([ nan,   5.,  45.,  35.,  30.,  40.,  15.,  25.,  20.,  10.,  50.,\n",
       "        60.,  65.,  55.,  70., 105.,  85.,  95.,  75.,  80.,  90.,   0.,\n",
       "       115., 100., 125., 120., 150., 500., 145., 140., 240., 110., 200.,\n",
       "       185., 180., 130., 175., 165.,  13., 190., 160., 135., 210., 170.,\n",
       "       195., 280., 205., 215., 155., 250., 900., 750.])"
      ]
     },
     "execution_count": 136,
     "metadata": {},
     "output_type": "execute_result"
    }
   ],
   "source": [
    "df[df.status == \"Operating\"][\"waitMins\"].unique()"
   ]
  },
  {
   "cell_type": "code",
   "execution_count": 128,
   "metadata": {},
   "outputs": [
    {
     "data": {
      "text/plain": [
       "Closed                 2812\n",
       "Operating              2109\n",
       "Down                    137\n",
       "Operates Seasonally     102\n",
       "Opening Soon             32\n",
       "Extra Magic Hours         2\n",
       "Name: status, dtype: int64"
      ]
     },
     "execution_count": 128,
     "metadata": {},
     "output_type": "execute_result"
    }
   ],
   "source": [
    "df[df.date == exdt][\"status\"].value_counts()"
   ]
  },
  {
   "cell_type": "code",
   "execution_count": 104,
   "metadata": {
    "scrolled": true
   },
   "outputs": [
    {
     "data": {
      "text/plain": [
       "array([2400936])"
      ]
     },
     "execution_count": 104,
     "metadata": {},
     "output_type": "execute_result"
    }
   ],
   "source": [
    "df.index.get_indexer(m, method=\"ffill\")"
   ]
  },
  {
   "cell_type": "code",
   "execution_count": 91,
   "metadata": {},
   "outputs": [],
   "source": [
    "sample_ts = sample_ts - timedelta(days=365)"
   ]
  },
  {
   "cell_type": "code",
   "execution_count": 26,
   "metadata": {},
   "outputs": [
    {
     "data": {
      "text/html": [
       "<div>\n",
       "<style scoped>\n",
       "    .dataframe tbody tr th:only-of-type {\n",
       "        vertical-align: middle;\n",
       "    }\n",
       "\n",
       "    .dataframe tbody tr th {\n",
       "        vertical-align: top;\n",
       "    }\n",
       "\n",
       "    .dataframe thead th {\n",
       "        text-align: right;\n",
       "    }\n",
       "</style>\n",
       "<table border=\"1\" class=\"dataframe\">\n",
       "  <thead>\n",
       "    <tr style=\"text-align: right;\">\n",
       "      <th></th>\n",
       "      <th>id</th>\n",
       "      <th>parkID</th>\n",
       "      <th>name</th>\n",
       "      <th>land</th>\n",
       "      <th>height</th>\n",
       "      <th>duration_min</th>\n",
       "      <th>popularity</th>\n",
       "      <th>landID</th>\n",
       "    </tr>\n",
       "  </thead>\n",
       "  <tbody>\n",
       "    <tr>\n",
       "      <th>54</th>\n",
       "      <td>353329</td>\n",
       "      <td>330339</td>\n",
       "      <td>Fire Engine, presented by National Car Rental</td>\n",
       "      <td>Main Street, U.S.A.</td>\n",
       "      <td>NaN</td>\n",
       "      <td>NaN</td>\n",
       "      <td>NaN</td>\n",
       "      <td>7</td>\n",
       "    </tr>\n",
       "    <tr>\n",
       "      <th>91</th>\n",
       "      <td>18249927</td>\n",
       "      <td>330339</td>\n",
       "      <td>Haunted Mansion Holiday</td>\n",
       "      <td>New Orleans Square</td>\n",
       "      <td>NaN</td>\n",
       "      <td>NaN</td>\n",
       "      <td>NaN</td>\n",
       "      <td>12</td>\n",
       "    </tr>\n",
       "  </tbody>\n",
       "</table>\n",
       "</div>"
      ],
      "text/plain": [
       "          id  parkID                                           name  \\\n",
       "54    353329  330339  Fire Engine, presented by National Car Rental   \n",
       "91  18249927  330339                        Haunted Mansion Holiday   \n",
       "\n",
       "                   land  height  duration_min popularity  landID  \n",
       "54  Main Street, U.S.A.     NaN           NaN        NaN       7  \n",
       "91   New Orleans Square     NaN           NaN        NaN      12  "
      ]
     },
     "execution_count": 26,
     "metadata": {},
     "output_type": "execute_result"
    }
   ],
   "source": [
    "ridesinfo[ridesinfo['duration_min'].isna()]"
   ]
  },
  {
   "cell_type": "code",
   "execution_count": 19,
   "metadata": {},
   "outputs": [],
   "source": [
    "ridesinfo = pd.read_csv(\"../disneyenv/disneyenv/envs/data/rideDuration.csv\")"
   ]
  },
  {
   "cell_type": "code",
   "execution_count": 68,
   "metadata": {},
   "outputs": [],
   "source": [
    "current_date = np.random.choice(avail_dates)"
   ]
  },
  {
   "cell_type": "code",
   "execution_count": 70,
   "metadata": {},
   "outputs": [
    {
     "data": {
      "text/plain": [
       "2018"
      ]
     },
     "execution_count": 70,
     "metadata": {},
     "output_type": "execute_result"
    }
   ],
   "source": [
    "current_date.year"
   ]
  },
  {
   "cell_type": "code",
   "execution_count": 51,
   "metadata": {},
   "outputs": [],
   "source": [
    "rides = ridesinfo[\"id\"].unique()"
   ]
  },
  {
   "cell_type": "code",
   "execution_count": 52,
   "metadata": {},
   "outputs": [
    {
     "data": {
      "text/plain": [
       "array([  0,   1,   2,   3,   4,   5,   6,   7,   8,   9,  10,  11,  12,\n",
       "        13,  14,  15,  16,  17,  18,  19,  20,  21,  22,  23,  24,  25,\n",
       "        26,  27,  28,  29,  30,  31,  32,  33,  34,  35,  36,  37,  38,\n",
       "        39,  40,  41,  42,  43,  44,  45,  46,  47,  48,  49,  50,  51,\n",
       "        52,  53,  54,  55,  56,  57,  58,  59,  60,  61,  62,  63,  64,\n",
       "        65,  66,  67,  68,  69,  70,  71,  72,  73,  74,  75,  76,  77,\n",
       "        78,  79,  80,  81,  82,  83,  84,  85,  86,  87,  88,  89,  90,\n",
       "        91,  92,  93,  94,  95,  96,  97,  98,  99, 100, 101, 102, 103,\n",
       "       104, 105,  -1])"
      ]
     },
     "execution_count": 52,
     "metadata": {},
     "output_type": "execute_result"
    }
   ],
   "source": [
    "np.append(np.arange(len(rides)), -1)"
   ]
  },
  {
   "cell_type": "code",
   "execution_count": 44,
   "metadata": {},
   "outputs": [],
   "source": [
    "from scipy.spatial.distance import squareform, pdist\n",
    "import geopy.distance"
   ]
  },
  {
   "cell_type": "code",
   "execution_count": 34,
   "metadata": {},
   "outputs": [],
   "source": [
    "landLocation = pd.read_csv(\"../disneyenv/disneyenv/envs/data/landLocation.csv\")"
   ]
  },
  {
   "cell_type": "code",
   "execution_count": 42,
   "metadata": {},
   "outputs": [],
   "source": [
    "walking_speed = 0.0804672"
   ]
  },
  {
   "cell_type": "code",
   "execution_count": 28,
   "metadata": {},
   "outputs": [],
   "source": [
    "df[\"dateTime\"] = pd.to_datetime(df[\"dateTime\"])"
   ]
  },
  {
   "cell_type": "code",
   "execution_count": 29,
   "metadata": {},
   "outputs": [],
   "source": [
    "df[\"date\"] = df[\"dateTime\"].dt.date"
   ]
  },
  {
   "cell_type": "code",
   "execution_count": 53,
   "metadata": {},
   "outputs": [],
   "source": [
    "avail_dates = df[\"date\"].unique()"
   ]
  },
  {
   "cell_type": "code",
   "execution_count": 183,
   "metadata": {},
   "outputs": [],
   "source": [
    "exdt = datetime.strptime(\"2017-09-11\", \"%Y-%m-%d\").date()\n"
   ]
  },
  {
   "cell_type": "code",
   "execution_count": 31,
   "metadata": {},
   "outputs": [],
   "source": [
    "arr = np.load(\"../disneyenv/disneyenv/envs/data/walking_time.npy\")"
   ]
  },
  {
   "cell_type": "code",
   "execution_count": 43,
   "metadata": {
    "scrolled": false
   },
   "outputs": [
    {
     "data": {
      "text/html": [
       "<div>\n",
       "<style scoped>\n",
       "    .dataframe tbody tr th:only-of-type {\n",
       "        vertical-align: middle;\n",
       "    }\n",
       "\n",
       "    .dataframe tbody tr th {\n",
       "        vertical-align: top;\n",
       "    }\n",
       "\n",
       "    .dataframe thead th {\n",
       "        text-align: right;\n",
       "    }\n",
       "</style>\n",
       "<table border=\"1\" class=\"dataframe\">\n",
       "  <thead>\n",
       "    <tr style=\"text-align: right;\">\n",
       "      <th></th>\n",
       "      <th>rideID</th>\n",
       "      <th>dateTime</th>\n",
       "      <th>waitMins</th>\n",
       "      <th>fastPassTime</th>\n",
       "      <th>status</th>\n",
       "      <th>date</th>\n",
       "    </tr>\n",
       "  </thead>\n",
       "  <tbody>\n",
       "    <tr>\n",
       "      <th>22544</th>\n",
       "      <td>353291</td>\n",
       "      <td>2017-05-22 09:30:07</td>\n",
       "      <td>5.0</td>\n",
       "      <td>NaN</td>\n",
       "      <td>Operating</td>\n",
       "      <td>2017-05-22</td>\n",
       "    </tr>\n",
       "    <tr>\n",
       "      <th>22545</th>\n",
       "      <td>353291</td>\n",
       "      <td>2017-05-22 10:30:15</td>\n",
       "      <td>45.0</td>\n",
       "      <td>NaN</td>\n",
       "      <td>Operating</td>\n",
       "      <td>2017-05-22</td>\n",
       "    </tr>\n",
       "    <tr>\n",
       "      <th>22546</th>\n",
       "      <td>353291</td>\n",
       "      <td>2017-05-22 11:30:15</td>\n",
       "      <td>35.0</td>\n",
       "      <td>NaN</td>\n",
       "      <td>Operating</td>\n",
       "      <td>2017-05-22</td>\n",
       "    </tr>\n",
       "    <tr>\n",
       "      <th>22547</th>\n",
       "      <td>353291</td>\n",
       "      <td>2017-05-22 12:30:15</td>\n",
       "      <td>30.0</td>\n",
       "      <td>NaN</td>\n",
       "      <td>Operating</td>\n",
       "      <td>2017-05-22</td>\n",
       "    </tr>\n",
       "    <tr>\n",
       "      <th>22548</th>\n",
       "      <td>353291</td>\n",
       "      <td>2017-05-22 13:30:06</td>\n",
       "      <td>45.0</td>\n",
       "      <td>NaN</td>\n",
       "      <td>Operating</td>\n",
       "      <td>2017-05-22</td>\n",
       "    </tr>\n",
       "    <tr>\n",
       "      <th>...</th>\n",
       "      <td>...</td>\n",
       "      <td>...</td>\n",
       "      <td>...</td>\n",
       "      <td>...</td>\n",
       "      <td>...</td>\n",
       "      <td>...</td>\n",
       "    </tr>\n",
       "    <tr>\n",
       "      <th>2354379</th>\n",
       "      <td>18774860</td>\n",
       "      <td>2017-10-31 19:00:12</td>\n",
       "      <td>75.0</td>\n",
       "      <td>NaN</td>\n",
       "      <td>Operating</td>\n",
       "      <td>2017-10-31</td>\n",
       "    </tr>\n",
       "    <tr>\n",
       "      <th>2354380</th>\n",
       "      <td>18774860</td>\n",
       "      <td>2017-10-31 19:30:05</td>\n",
       "      <td>75.0</td>\n",
       "      <td>NaN</td>\n",
       "      <td>Operating</td>\n",
       "      <td>2017-10-31</td>\n",
       "    </tr>\n",
       "    <tr>\n",
       "      <th>2354381</th>\n",
       "      <td>18774860</td>\n",
       "      <td>2017-10-31 20:00:12</td>\n",
       "      <td>55.0</td>\n",
       "      <td>NaN</td>\n",
       "      <td>Operating</td>\n",
       "      <td>2017-10-31</td>\n",
       "    </tr>\n",
       "    <tr>\n",
       "      <th>2354382</th>\n",
       "      <td>18774860</td>\n",
       "      <td>2017-10-31 20:30:04</td>\n",
       "      <td>55.0</td>\n",
       "      <td>NaN</td>\n",
       "      <td>Operating</td>\n",
       "      <td>2017-10-31</td>\n",
       "    </tr>\n",
       "    <tr>\n",
       "      <th>2354383</th>\n",
       "      <td>18774860</td>\n",
       "      <td>2017-10-31 21:00:12</td>\n",
       "      <td>55.0</td>\n",
       "      <td>NaN</td>\n",
       "      <td>Operating</td>\n",
       "      <td>2017-10-31</td>\n",
       "    </tr>\n",
       "  </tbody>\n",
       "</table>\n",
       "<p>668748 rows × 6 columns</p>\n",
       "</div>"
      ],
      "text/plain": [
       "           rideID             dateTime  waitMins fastPassTime     status  \\\n",
       "22544      353291  2017-05-22 09:30:07       5.0          NaN  Operating   \n",
       "22545      353291  2017-05-22 10:30:15      45.0          NaN  Operating   \n",
       "22546      353291  2017-05-22 11:30:15      35.0          NaN  Operating   \n",
       "22547      353291  2017-05-22 12:30:15      30.0          NaN  Operating   \n",
       "22548      353291  2017-05-22 13:30:06      45.0          NaN  Operating   \n",
       "...           ...                  ...       ...          ...        ...   \n",
       "2354379  18774860  2017-10-31 19:00:12      75.0          NaN  Operating   \n",
       "2354380  18774860  2017-10-31 19:30:05      75.0          NaN  Operating   \n",
       "2354381  18774860  2017-10-31 20:00:12      55.0          NaN  Operating   \n",
       "2354382  18774860  2017-10-31 20:30:04      55.0          NaN  Operating   \n",
       "2354383  18774860  2017-10-31 21:00:12      55.0          NaN  Operating   \n",
       "\n",
       "               date  \n",
       "22544    2017-05-22  \n",
       "22545    2017-05-22  \n",
       "22546    2017-05-22  \n",
       "22547    2017-05-22  \n",
       "22548    2017-05-22  \n",
       "...             ...  \n",
       "2354379  2017-10-31  \n",
       "2354380  2017-10-31  \n",
       "2354381  2017-10-31  \n",
       "2354382  2017-10-31  \n",
       "2354383  2017-10-31  \n",
       "\n",
       "[668748 rows x 6 columns]"
      ]
     },
     "execution_count": 43,
     "metadata": {},
     "output_type": "execute_result"
    }
   ],
   "source": [
    "df[(df[\"status\"] == \"Operating\") & (~(df[\"waitMins\"].isna()))]"
   ]
  },
  {
   "cell_type": "code",
   "execution_count": 51,
   "metadata": {},
   "outputs": [
    {
     "data": {
      "text/plain": [
       "date\n",
       "2017-09-06    52\n",
       "2017-08-30    53\n",
       "2017-09-10    53\n",
       "2017-09-09    53\n",
       "2017-09-08    53\n",
       "              ..\n",
       "2017-08-11    91\n",
       "2017-08-07    91\n",
       "2017-08-08    91\n",
       "2017-08-10    91\n",
       "2017-08-06    91\n",
       "Name: rideID, Length: 482, dtype: int64"
      ]
     },
     "execution_count": 51,
     "metadata": {},
     "output_type": "execute_result"
    }
   ],
   "source": [
    "open_df.groupby(\"date\")[\"rideID\"].nunique().sort_values()"
   ]
  },
  {
   "cell_type": "code",
   "execution_count": null,
   "metadata": {},
   "outputs": [],
   "source": []
  }
 ],
 "metadata": {
  "kernelspec": {
   "display_name": "Python 3 (ipykernel)",
   "language": "python",
   "name": "python3"
  },
  "language_info": {
   "codemirror_mode": {
    "name": "ipython",
    "version": 3
   },
   "file_extension": ".py",
   "mimetype": "text/x-python",
   "name": "python",
   "nbconvert_exporter": "python",
   "pygments_lexer": "ipython3",
   "version": "3.10.10"
  }
 },
 "nbformat": 4,
 "nbformat_minor": 2
}
