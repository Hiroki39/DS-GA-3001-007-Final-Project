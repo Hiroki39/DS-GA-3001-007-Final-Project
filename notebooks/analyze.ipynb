{
 "cells": [
  {
   "cell_type": "code",
   "execution_count": 174,
   "metadata": {},
   "outputs": [],
   "source": [
    "import pandas as pd\n",
    "import numpy as np\n",
    "from datetime import datetime, timedelta, date\n",
    "from scipy.spatial.distance import squareform, pdist"
   ]
  },
  {
   "cell_type": "code",
   "execution_count": 141,
   "metadata": {},
   "outputs": [
    {
     "data": {
      "text/plain": [
       "'/gpfs/data/oermannlab/users/hz2212/DS-GA 3001-007/notebooks'"
      ]
     },
     "execution_count": 141,
     "metadata": {},
     "output_type": "execute_result"
    }
   ],
   "source": [
    "import os\n",
    "from geopy import distance\n",
    "os.getcwd()"
   ]
  },
  {
   "cell_type": "code",
   "execution_count": 153,
   "metadata": {},
   "outputs": [
    {
     "data": {
      "text/plain": [
       "19.59417004116794"
      ]
     },
     "execution_count": 153,
     "metadata": {},
     "output_type": "execute_result"
    }
   ],
   "source": [
    " # adjacency matrix\n",
    "landLocation = pd.read_csv(\n",
    "    \"../disneyenv/disneyenv/envs/data/landLocation.csv\")\n",
    "walking_speed = 0.0804672  # km/min\n",
    "\n",
    "np.max(squareform(pdist(landLocation[[\n",
    "                                   \"longitude\", \"latitude\"]], lambda u, v: geopy.distance.geodesic(u, v).km/walking_speed)))"
   ]
  },
  {
   "cell_type": "code",
   "execution_count": 145,
   "metadata": {},
   "outputs": [
    {
     "data": {
      "text/plain": [
       "Int64Index([  353289,   353291,   353293,   353295,   353301,   353303,\n",
       "              353305,   353309,   353311,   353313,\n",
       "            ...\n",
       "            18741420, 18752875, 18752877, 18755618, 18766536, 18766537,\n",
       "            18774860, 18848246, 18848247, 18946452],\n",
       "           dtype='int64', name='rideID', length=110)"
      ]
     },
     "execution_count": 145,
     "metadata": {},
     "output_type": "execute_result"
    }
   ],
   "source": [
    "df.index.get_level_values(0).unique()"
   ]
  },
  {
   "cell_type": "code",
   "execution_count": 82,
   "metadata": {},
   "outputs": [
    {
     "name": "stderr",
     "output_type": "stream",
     "text": [
      "/tmp/ipykernel_26196/2545870254.py:1: DtypeWarning: Columns (3) have mixed types. Specify dtype option on import or set low_memory=False.\n",
      "  df = pd.read_csv(\"../disneyenv/disneyenv/envs/data/disneyRideTimes.csv\")\n"
     ]
    }
   ],
   "source": [
    "df = pd.read_csv(\"../disneyenv/disneyenv/envs/data/disneyRideTimes.csv\")"
   ]
  },
  {
   "cell_type": "code",
   "execution_count": 116,
   "metadata": {},
   "outputs": [],
   "source": [
    "df2 = pd.read_csv(\"../disneyenv/disneyenv/envs/data/hourlyWeather.csv\")"
   ]
  },
  {
   "cell_type": "code",
   "execution_count": 119,
   "metadata": {},
   "outputs": [],
   "source": [
    "df2[\"dateTime\"] = pd.to_datetime(df2[\"dateTime\"])\n",
    "df2[\"date\"] = df2[\"dateTime\"].dt.date\n",
    "df2 = df2.set_index(\"dateTime\").sort_index()"
   ]
  },
  {
   "cell_type": "code",
   "execution_count": 83,
   "metadata": {},
   "outputs": [],
   "source": [
    "df[\"dateTime\"] = pd.to_datetime(df[\"dateTime\"])\n",
    "df[\"date\"] = df[\"dateTime\"].dt.date\n",
    "df = df.set_index([\"rideID\", \"dateTime\"]).sort_index()"
   ]
  },
  {
   "cell_type": "code",
   "execution_count": 156,
   "metadata": {},
   "outputs": [
    {
     "data": {
      "text/plain": [
       "array([ 0,  5,  6, 14, 10,  2])"
      ]
     },
     "execution_count": 156,
     "metadata": {},
     "output_type": "execute_result"
    }
   ],
   "source": [
    "df2[\"rainStatus\"].unique()"
   ]
  },
  {
   "cell_type": "code",
   "execution_count": 154,
   "metadata": {},
   "outputs": [
    {
     "data": {
      "text/html": [
       "<div>\n",
       "<style scoped>\n",
       "    .dataframe tbody tr th:only-of-type {\n",
       "        vertical-align: middle;\n",
       "    }\n",
       "\n",
       "    .dataframe tbody tr th {\n",
       "        vertical-align: top;\n",
       "    }\n",
       "\n",
       "    .dataframe thead th {\n",
       "        text-align: right;\n",
       "    }\n",
       "</style>\n",
       "<table border=\"1\" class=\"dataframe\">\n",
       "  <thead>\n",
       "    <tr style=\"text-align: right;\">\n",
       "      <th></th>\n",
       "      <th>resortID</th>\n",
       "      <th>rainStatus</th>\n",
       "      <th>feelsLikeF</th>\n",
       "    </tr>\n",
       "  </thead>\n",
       "  <tbody>\n",
       "    <tr>\n",
       "      <th>count</th>\n",
       "      <td>11585.0</td>\n",
       "      <td>11585.000000</td>\n",
       "      <td>11585.000000</td>\n",
       "    </tr>\n",
       "    <tr>\n",
       "      <th>mean</th>\n",
       "      <td>80008297.0</td>\n",
       "      <td>1.524126</td>\n",
       "      <td>68.079327</td>\n",
       "    </tr>\n",
       "    <tr>\n",
       "      <th>std</th>\n",
       "      <td>0.0</td>\n",
       "      <td>1.473977</td>\n",
       "      <td>10.186385</td>\n",
       "    </tr>\n",
       "    <tr>\n",
       "      <th>min</th>\n",
       "      <td>80008297.0</td>\n",
       "      <td>0.000000</td>\n",
       "      <td>41.000000</td>\n",
       "    </tr>\n",
       "    <tr>\n",
       "      <th>25%</th>\n",
       "      <td>80008297.0</td>\n",
       "      <td>0.000000</td>\n",
       "      <td>61.000000</td>\n",
       "    </tr>\n",
       "    <tr>\n",
       "      <th>50%</th>\n",
       "      <td>80008297.0</td>\n",
       "      <td>2.000000</td>\n",
       "      <td>68.000000</td>\n",
       "    </tr>\n",
       "    <tr>\n",
       "      <th>75%</th>\n",
       "      <td>80008297.0</td>\n",
       "      <td>2.000000</td>\n",
       "      <td>74.000000</td>\n",
       "    </tr>\n",
       "    <tr>\n",
       "      <th>max</th>\n",
       "      <td>80008297.0</td>\n",
       "      <td>14.000000</td>\n",
       "      <td>115.000000</td>\n",
       "    </tr>\n",
       "  </tbody>\n",
       "</table>\n",
       "</div>"
      ],
      "text/plain": [
       "         resortID    rainStatus    feelsLikeF\n",
       "count     11585.0  11585.000000  11585.000000\n",
       "mean   80008297.0      1.524126     68.079327\n",
       "std           0.0      1.473977     10.186385\n",
       "min    80008297.0      0.000000     41.000000\n",
       "25%    80008297.0      0.000000     61.000000\n",
       "50%    80008297.0      2.000000     68.000000\n",
       "75%    80008297.0      2.000000     74.000000\n",
       "max    80008297.0     14.000000    115.000000"
      ]
     },
     "execution_count": 154,
     "metadata": {},
     "output_type": "execute_result"
    }
   ],
   "source": [
    "df2.describe()"
   ]
  },
  {
   "cell_type": "code",
   "execution_count": 77,
   "metadata": {
    "scrolled": true
   },
   "outputs": [
    {
     "data": {
      "text/plain": [
       "waitMins               NaN\n",
       "fastPassTime           NaN\n",
       "status              Closed\n",
       "date            2017-08-24\n",
       "Name: (2017-08-24 04:30:05, 353289), dtype: object"
      ]
     },
     "execution_count": 77,
     "metadata": {},
     "output_type": "execute_result"
    }
   ],
   "source": [
    "df.iloc[4528]"
   ]
  },
  {
   "cell_type": "code",
   "execution_count": 157,
   "metadata": {},
   "outputs": [],
   "source": [
    "from gym.spaces import Box, Discrete, Dict\n",
    "o = Dict({\"position\": Box(-1, 1, shape=(1,)), \"color\": Discrete(3)}).sample()"
   ]
  },
  {
   "cell_type": "code",
   "execution_count": 151,
   "metadata": {},
   "outputs": [
    {
     "data": {
      "text/html": [
       "<div>\n",
       "<style scoped>\n",
       "    .dataframe tbody tr th:only-of-type {\n",
       "        vertical-align: middle;\n",
       "    }\n",
       "\n",
       "    .dataframe tbody tr th {\n",
       "        vertical-align: top;\n",
       "    }\n",
       "\n",
       "    .dataframe thead th {\n",
       "        text-align: right;\n",
       "    }\n",
       "</style>\n",
       "<table border=\"1\" class=\"dataframe\">\n",
       "  <thead>\n",
       "    <tr style=\"text-align: right;\">\n",
       "      <th></th>\n",
       "      <th>name</th>\n",
       "      <th>longitude</th>\n",
       "      <th>latitude</th>\n",
       "      <th>landID</th>\n",
       "    </tr>\n",
       "  </thead>\n",
       "  <tbody>\n",
       "    <tr>\n",
       "      <th>0</th>\n",
       "      <td>Hollywood Land</td>\n",
       "      <td>33.807787</td>\n",
       "      <td>-117.917199</td>\n",
       "      <td>0</td>\n",
       "    </tr>\n",
       "    <tr>\n",
       "      <th>1</th>\n",
       "      <td>Tomorrowland</td>\n",
       "      <td>33.812353</td>\n",
       "      <td>-117.917015</td>\n",
       "      <td>1</td>\n",
       "    </tr>\n",
       "    <tr>\n",
       "      <th>2</th>\n",
       "      <td>Frontierland</td>\n",
       "      <td>33.812588</td>\n",
       "      <td>-117.920432</td>\n",
       "      <td>2</td>\n",
       "    </tr>\n",
       "    <tr>\n",
       "      <th>3</th>\n",
       "      <td>Pixar Pier</td>\n",
       "      <td>33.804921</td>\n",
       "      <td>-117.921925</td>\n",
       "      <td>3</td>\n",
       "    </tr>\n",
       "    <tr>\n",
       "      <th>4</th>\n",
       "      <td>Fantasyland</td>\n",
       "      <td>33.813791</td>\n",
       "      <td>-117.918783</td>\n",
       "      <td>4</td>\n",
       "    </tr>\n",
       "    <tr>\n",
       "      <th>5</th>\n",
       "      <td>Mickey's Toontown</td>\n",
       "      <td>33.815569</td>\n",
       "      <td>-117.918553</td>\n",
       "      <td>5</td>\n",
       "    </tr>\n",
       "    <tr>\n",
       "      <th>6</th>\n",
       "      <td>Critter Country</td>\n",
       "      <td>33.812541</td>\n",
       "      <td>-117.922853</td>\n",
       "      <td>6</td>\n",
       "    </tr>\n",
       "    <tr>\n",
       "      <th>7</th>\n",
       "      <td>Main Street, U.S.A.</td>\n",
       "      <td>33.810680</td>\n",
       "      <td>-117.918868</td>\n",
       "      <td>7</td>\n",
       "    </tr>\n",
       "    <tr>\n",
       "      <th>8</th>\n",
       "      <td>Adventureland</td>\n",
       "      <td>33.811893</td>\n",
       "      <td>-117.919854</td>\n",
       "      <td>8</td>\n",
       "    </tr>\n",
       "    <tr>\n",
       "      <th>9</th>\n",
       "      <td>a bug's land</td>\n",
       "      <td>33.818824</td>\n",
       "      <td>-117.918374</td>\n",
       "      <td>9</td>\n",
       "    </tr>\n",
       "    <tr>\n",
       "      <th>10</th>\n",
       "      <td>Paradise Pier</td>\n",
       "      <td>33.806491</td>\n",
       "      <td>-117.924395</td>\n",
       "      <td>10</td>\n",
       "    </tr>\n",
       "    <tr>\n",
       "      <th>11</th>\n",
       "      <td>Grizzly Peak</td>\n",
       "      <td>33.807105</td>\n",
       "      <td>-117.920962</td>\n",
       "      <td>11</td>\n",
       "    </tr>\n",
       "    <tr>\n",
       "      <th>12</th>\n",
       "      <td>New Orleans Square</td>\n",
       "      <td>33.811380</td>\n",
       "      <td>-117.921476</td>\n",
       "      <td>12</td>\n",
       "    </tr>\n",
       "    <tr>\n",
       "      <th>13</th>\n",
       "      <td>Pacific Wharf</td>\n",
       "      <td>33.805886</td>\n",
       "      <td>-117.919917</td>\n",
       "      <td>13</td>\n",
       "    </tr>\n",
       "    <tr>\n",
       "      <th>14</th>\n",
       "      <td>Cars Land</td>\n",
       "      <td>33.805824</td>\n",
       "      <td>-117.918698</td>\n",
       "      <td>14</td>\n",
       "    </tr>\n",
       "    <tr>\n",
       "      <th>15</th>\n",
       "      <td>Buena Vista Street</td>\n",
       "      <td>33.808037</td>\n",
       "      <td>-117.918839</td>\n",
       "      <td>15</td>\n",
       "    </tr>\n",
       "    <tr>\n",
       "      <th>16</th>\n",
       "      <td>Disneyland Resort</td>\n",
       "      <td>33.811986</td>\n",
       "      <td>-117.921981</td>\n",
       "      <td>16</td>\n",
       "    </tr>\n",
       "  </tbody>\n",
       "</table>\n",
       "</div>"
      ],
      "text/plain": [
       "                   name  longitude    latitude  landID\n",
       "0        Hollywood Land  33.807787 -117.917199       0\n",
       "1          Tomorrowland  33.812353 -117.917015       1\n",
       "2          Frontierland  33.812588 -117.920432       2\n",
       "3            Pixar Pier  33.804921 -117.921925       3\n",
       "4           Fantasyland  33.813791 -117.918783       4\n",
       "5     Mickey's Toontown  33.815569 -117.918553       5\n",
       "6       Critter Country  33.812541 -117.922853       6\n",
       "7   Main Street, U.S.A.  33.810680 -117.918868       7\n",
       "8         Adventureland  33.811893 -117.919854       8\n",
       "9          a bug's land  33.818824 -117.918374       9\n",
       "10        Paradise Pier  33.806491 -117.924395      10\n",
       "11         Grizzly Peak  33.807105 -117.920962      11\n",
       "12   New Orleans Square  33.811380 -117.921476      12\n",
       "13        Pacific Wharf  33.805886 -117.919917      13\n",
       "14            Cars Land  33.805824 -117.918698      14\n",
       "15   Buena Vista Street  33.808037 -117.918839      15\n",
       "16    Disneyland Resort  33.811986 -117.921981      16"
      ]
     },
     "execution_count": 151,
     "metadata": {},
     "output_type": "execute_result"
    }
   ],
   "source": [
    "landLocation"
   ]
  },
  {
   "cell_type": "code",
   "execution_count": 105,
   "metadata": {},
   "outputs": [],
   "source": [
    "m = pd.MultiIndex.from_arrays([[18946452, 18946452], [sample_ts, sample_ts]])"
   ]
  },
  {
   "cell_type": "code",
   "execution_count": 113,
   "metadata": {},
   "outputs": [
    {
     "data": {
      "text/plain": [
       "array([nan, (18946452, Timestamp('2016-08-24 04:40:05'))], dtype=object)"
      ]
     },
     "execution_count": 113,
     "metadata": {},
     "output_type": "execute_result"
    }
   ],
   "source": [
    "m2 = m.values\n",
    "m2[0] = np.nan\n",
    "\n",
    "m2"
   ]
  },
  {
   "cell_type": "code",
   "execution_count": 114,
   "metadata": {
    "scrolled": true
   },
   "outputs": [
    {
     "name": "stderr",
     "output_type": "stream",
     "text": [
      "/tmp/ipykernel_26196/766069897.py:1: DeprecationWarning: The truth value of an empty array is ambiguous. Returning False, but in future this will result in an error. Use `array.size > 0` to check that an array is not empty.\n",
      "  bool(np.array([]))\n"
     ]
    },
    {
     "data": {
      "text/plain": [
       "False"
      ]
     },
     "execution_count": 114,
     "metadata": {},
     "output_type": "execute_result"
    }
   ],
   "source": [
    "bool(np.array([]))"
   ]
  },
  {
   "cell_type": "code",
   "execution_count": 125,
   "metadata": {},
   "outputs": [
    {
     "data": {
      "text/plain": [
       "datetime.date(2017, 8, 24)"
      ]
     },
     "execution_count": 125,
     "metadata": {},
     "output_type": "execute_result"
    }
   ],
   "source": [
    "exdt"
   ]
  },
  {
   "cell_type": "code",
   "execution_count": 136,
   "metadata": {},
   "outputs": [
    {
     "data": {
      "text/plain": [
       "array([ nan,   5.,  45.,  35.,  30.,  40.,  15.,  25.,  20.,  10.,  50.,\n",
       "        60.,  65.,  55.,  70., 105.,  85.,  95.,  75.,  80.,  90.,   0.,\n",
       "       115., 100., 125., 120., 150., 500., 145., 140., 240., 110., 200.,\n",
       "       185., 180., 130., 175., 165.,  13., 190., 160., 135., 210., 170.,\n",
       "       195., 280., 205., 215., 155., 250., 900., 750.])"
      ]
     },
     "execution_count": 136,
     "metadata": {},
     "output_type": "execute_result"
    }
   ],
   "source": [
    "df[df.status == \"Operating\"][\"waitMins\"].unique()"
   ]
  },
  {
   "cell_type": "code",
   "execution_count": 128,
   "metadata": {},
   "outputs": [
    {
     "data": {
      "text/plain": [
       "Closed                 2812\n",
       "Operating              2109\n",
       "Down                    137\n",
       "Operates Seasonally     102\n",
       "Opening Soon             32\n",
       "Extra Magic Hours         2\n",
       "Name: status, dtype: int64"
      ]
     },
     "execution_count": 128,
     "metadata": {},
     "output_type": "execute_result"
    }
   ],
   "source": [
    "df[df.date == exdt][\"status\"].value_counts()"
   ]
  },
  {
   "cell_type": "code",
   "execution_count": 104,
   "metadata": {
    "scrolled": true
   },
   "outputs": [
    {
     "data": {
      "text/plain": [
       "array([2400936])"
      ]
     },
     "execution_count": 104,
     "metadata": {},
     "output_type": "execute_result"
    }
   ],
   "source": [
    "df.index.get_indexer(m, method=\"ffill\")"
   ]
  },
  {
   "cell_type": "code",
   "execution_count": 91,
   "metadata": {},
   "outputs": [],
   "source": [
    "sample_ts = sample_ts - timedelta(days=365)"
   ]
  },
  {
   "cell_type": "code",
   "execution_count": 31,
   "metadata": {},
   "outputs": [],
   "source": [
    "exdt = df[\"dateTime\"].dt.date[100000]\n"
   ]
  },
  {
   "cell_type": "code",
   "execution_count": 42,
   "metadata": {},
   "outputs": [
    {
     "data": {
      "text/plain": [
       "Timestamp('2017-08-24 04:40:05')"
      ]
     },
     "execution_count": 42,
     "metadata": {},
     "output_type": "execute_result"
    }
   ],
   "source": [
    "sample_ts = ride_date_df.dateTime.iloc[10] + timedelta(minutes=10)\n",
    "sample_ts"
   ]
  },
  {
   "cell_type": "code",
   "execution_count": 59,
   "metadata": {},
   "outputs": [],
   "source": [
    "ridesinfo = pd.read_csv(\"../disneyenv/disneyenv/envs/data/rideDuration.csv\")"
   ]
  },
  {
   "cell_type": "code",
   "execution_count": 68,
   "metadata": {},
   "outputs": [],
   "source": [
    "current_date = np.random.choice(avail_dates)"
   ]
  },
  {
   "cell_type": "code",
   "execution_count": 70,
   "metadata": {},
   "outputs": [
    {
     "data": {
      "text/plain": [
       "2018"
      ]
     },
     "execution_count": 70,
     "metadata": {},
     "output_type": "execute_result"
    }
   ],
   "source": [
    "current_date.year"
   ]
  },
  {
   "cell_type": "code",
   "execution_count": 51,
   "metadata": {},
   "outputs": [],
   "source": [
    "rides = ridesinfo[\"id\"].unique()"
   ]
  },
  {
   "cell_type": "code",
   "execution_count": 52,
   "metadata": {},
   "outputs": [
    {
     "data": {
      "text/plain": [
       "array([  0,   1,   2,   3,   4,   5,   6,   7,   8,   9,  10,  11,  12,\n",
       "        13,  14,  15,  16,  17,  18,  19,  20,  21,  22,  23,  24,  25,\n",
       "        26,  27,  28,  29,  30,  31,  32,  33,  34,  35,  36,  37,  38,\n",
       "        39,  40,  41,  42,  43,  44,  45,  46,  47,  48,  49,  50,  51,\n",
       "        52,  53,  54,  55,  56,  57,  58,  59,  60,  61,  62,  63,  64,\n",
       "        65,  66,  67,  68,  69,  70,  71,  72,  73,  74,  75,  76,  77,\n",
       "        78,  79,  80,  81,  82,  83,  84,  85,  86,  87,  88,  89,  90,\n",
       "        91,  92,  93,  94,  95,  96,  97,  98,  99, 100, 101, 102, 103,\n",
       "       104, 105,  -1])"
      ]
     },
     "execution_count": 52,
     "metadata": {},
     "output_type": "execute_result"
    }
   ],
   "source": [
    "np.append(np.arange(len(rides)), -1)"
   ]
  },
  {
   "cell_type": "code",
   "execution_count": 44,
   "metadata": {},
   "outputs": [],
   "source": [
    "from scipy.spatial.distance import squareform, pdist\n",
    "import geopy.distance"
   ]
  },
  {
   "cell_type": "code",
   "execution_count": 34,
   "metadata": {},
   "outputs": [],
   "source": [
    "landLocation = pd.read_csv(\"../disneyenv/disneyenv/envs/data/landLocation.csv\")"
   ]
  },
  {
   "cell_type": "code",
   "execution_count": 42,
   "metadata": {},
   "outputs": [],
   "source": [
    "walking_speed = 0.0804672"
   ]
  },
  {
   "cell_type": "code",
   "execution_count": 28,
   "metadata": {},
   "outputs": [],
   "source": [
    "df[\"dateTime\"] = pd.to_datetime(df[\"dateTime\"])"
   ]
  },
  {
   "cell_type": "code",
   "execution_count": 29,
   "metadata": {},
   "outputs": [],
   "source": [
    "df[\"date\"] = df[\"dateTime\"].dt.date"
   ]
  },
  {
   "cell_type": "code",
   "execution_count": 53,
   "metadata": {},
   "outputs": [],
   "source": [
    "avail_dates = df[\"date\"].unique()"
   ]
  },
  {
   "cell_type": "code",
   "execution_count": 183,
   "metadata": {},
   "outputs": [],
   "source": [
    "exdt = datetime.strptime(\"2017-09-11\", \"%Y-%m-%d\").date()\n"
   ]
  },
  {
   "cell_type": "code",
   "execution_count": 184,
   "metadata": {},
   "outputs": [
    {
     "data": {
      "text/plain": [
       "5.0      361\n",
       "10.0     234\n",
       "15.0     168\n",
       "20.0      97\n",
       "30.0      84\n",
       "25.0      71\n",
       "45.0      56\n",
       "35.0      56\n",
       "40.0      38\n",
       "60.0      14\n",
       "90.0      10\n",
       "0.0       10\n",
       "65.0      10\n",
       "55.0       9\n",
       "75.0       5\n",
       "50.0       4\n",
       "70.0       2\n",
       "80.0       2\n",
       "120.0      1\n",
       "Name: waitMins, dtype: int64"
      ]
     },
     "execution_count": 184,
     "metadata": {},
     "output_type": "execute_result"
    }
   ],
   "source": [
    "df[df[\"date\"] == exdt].waitMins.value_counts()"
   ]
  },
  {
   "cell_type": "code",
   "execution_count": 43,
   "metadata": {
    "scrolled": true
   },
   "outputs": [
    {
     "data": {
      "text/html": [
       "<div>\n",
       "<style scoped>\n",
       "    .dataframe tbody tr th:only-of-type {\n",
       "        vertical-align: middle;\n",
       "    }\n",
       "\n",
       "    .dataframe tbody tr th {\n",
       "        vertical-align: top;\n",
       "    }\n",
       "\n",
       "    .dataframe thead th {\n",
       "        text-align: right;\n",
       "    }\n",
       "</style>\n",
       "<table border=\"1\" class=\"dataframe\">\n",
       "  <thead>\n",
       "    <tr style=\"text-align: right;\">\n",
       "      <th></th>\n",
       "      <th>rideID</th>\n",
       "      <th>dateTime</th>\n",
       "      <th>waitMins</th>\n",
       "      <th>fastPassTime</th>\n",
       "      <th>status</th>\n",
       "      <th>date</th>\n",
       "    </tr>\n",
       "  </thead>\n",
       "  <tbody>\n",
       "    <tr>\n",
       "      <th>22544</th>\n",
       "      <td>353291</td>\n",
       "      <td>2017-05-22 09:30:07</td>\n",
       "      <td>5.0</td>\n",
       "      <td>NaN</td>\n",
       "      <td>Operating</td>\n",
       "      <td>2017-05-22</td>\n",
       "    </tr>\n",
       "    <tr>\n",
       "      <th>22545</th>\n",
       "      <td>353291</td>\n",
       "      <td>2017-05-22 10:30:15</td>\n",
       "      <td>45.0</td>\n",
       "      <td>NaN</td>\n",
       "      <td>Operating</td>\n",
       "      <td>2017-05-22</td>\n",
       "    </tr>\n",
       "    <tr>\n",
       "      <th>22546</th>\n",
       "      <td>353291</td>\n",
       "      <td>2017-05-22 11:30:15</td>\n",
       "      <td>35.0</td>\n",
       "      <td>NaN</td>\n",
       "      <td>Operating</td>\n",
       "      <td>2017-05-22</td>\n",
       "    </tr>\n",
       "    <tr>\n",
       "      <th>22547</th>\n",
       "      <td>353291</td>\n",
       "      <td>2017-05-22 12:30:15</td>\n",
       "      <td>30.0</td>\n",
       "      <td>NaN</td>\n",
       "      <td>Operating</td>\n",
       "      <td>2017-05-22</td>\n",
       "    </tr>\n",
       "    <tr>\n",
       "      <th>22548</th>\n",
       "      <td>353291</td>\n",
       "      <td>2017-05-22 13:30:06</td>\n",
       "      <td>45.0</td>\n",
       "      <td>NaN</td>\n",
       "      <td>Operating</td>\n",
       "      <td>2017-05-22</td>\n",
       "    </tr>\n",
       "    <tr>\n",
       "      <th>...</th>\n",
       "      <td>...</td>\n",
       "      <td>...</td>\n",
       "      <td>...</td>\n",
       "      <td>...</td>\n",
       "      <td>...</td>\n",
       "      <td>...</td>\n",
       "    </tr>\n",
       "    <tr>\n",
       "      <th>2354379</th>\n",
       "      <td>18774860</td>\n",
       "      <td>2017-10-31 19:00:12</td>\n",
       "      <td>75.0</td>\n",
       "      <td>NaN</td>\n",
       "      <td>Operating</td>\n",
       "      <td>2017-10-31</td>\n",
       "    </tr>\n",
       "    <tr>\n",
       "      <th>2354380</th>\n",
       "      <td>18774860</td>\n",
       "      <td>2017-10-31 19:30:05</td>\n",
       "      <td>75.0</td>\n",
       "      <td>NaN</td>\n",
       "      <td>Operating</td>\n",
       "      <td>2017-10-31</td>\n",
       "    </tr>\n",
       "    <tr>\n",
       "      <th>2354381</th>\n",
       "      <td>18774860</td>\n",
       "      <td>2017-10-31 20:00:12</td>\n",
       "      <td>55.0</td>\n",
       "      <td>NaN</td>\n",
       "      <td>Operating</td>\n",
       "      <td>2017-10-31</td>\n",
       "    </tr>\n",
       "    <tr>\n",
       "      <th>2354382</th>\n",
       "      <td>18774860</td>\n",
       "      <td>2017-10-31 20:30:04</td>\n",
       "      <td>55.0</td>\n",
       "      <td>NaN</td>\n",
       "      <td>Operating</td>\n",
       "      <td>2017-10-31</td>\n",
       "    </tr>\n",
       "    <tr>\n",
       "      <th>2354383</th>\n",
       "      <td>18774860</td>\n",
       "      <td>2017-10-31 21:00:12</td>\n",
       "      <td>55.0</td>\n",
       "      <td>NaN</td>\n",
       "      <td>Operating</td>\n",
       "      <td>2017-10-31</td>\n",
       "    </tr>\n",
       "  </tbody>\n",
       "</table>\n",
       "<p>668748 rows × 6 columns</p>\n",
       "</div>"
      ],
      "text/plain": [
       "           rideID             dateTime  waitMins fastPassTime     status  \\\n",
       "22544      353291  2017-05-22 09:30:07       5.0          NaN  Operating   \n",
       "22545      353291  2017-05-22 10:30:15      45.0          NaN  Operating   \n",
       "22546      353291  2017-05-22 11:30:15      35.0          NaN  Operating   \n",
       "22547      353291  2017-05-22 12:30:15      30.0          NaN  Operating   \n",
       "22548      353291  2017-05-22 13:30:06      45.0          NaN  Operating   \n",
       "...           ...                  ...       ...          ...        ...   \n",
       "2354379  18774860  2017-10-31 19:00:12      75.0          NaN  Operating   \n",
       "2354380  18774860  2017-10-31 19:30:05      75.0          NaN  Operating   \n",
       "2354381  18774860  2017-10-31 20:00:12      55.0          NaN  Operating   \n",
       "2354382  18774860  2017-10-31 20:30:04      55.0          NaN  Operating   \n",
       "2354383  18774860  2017-10-31 21:00:12      55.0          NaN  Operating   \n",
       "\n",
       "               date  \n",
       "22544    2017-05-22  \n",
       "22545    2017-05-22  \n",
       "22546    2017-05-22  \n",
       "22547    2017-05-22  \n",
       "22548    2017-05-22  \n",
       "...             ...  \n",
       "2354379  2017-10-31  \n",
       "2354380  2017-10-31  \n",
       "2354381  2017-10-31  \n",
       "2354382  2017-10-31  \n",
       "2354383  2017-10-31  \n",
       "\n",
       "[668748 rows x 6 columns]"
      ]
     },
     "execution_count": 43,
     "metadata": {},
     "output_type": "execute_result"
    }
   ],
   "source": [
    "df[(df[\"status\"] == \"Operating\") & (~(df[\"waitMins\"].isna()))]"
   ]
  },
  {
   "cell_type": "code",
   "execution_count": 51,
   "metadata": {},
   "outputs": [
    {
     "data": {
      "text/plain": [
       "date\n",
       "2017-09-06    52\n",
       "2017-08-30    53\n",
       "2017-09-10    53\n",
       "2017-09-09    53\n",
       "2017-09-08    53\n",
       "              ..\n",
       "2017-08-11    91\n",
       "2017-08-07    91\n",
       "2017-08-08    91\n",
       "2017-08-10    91\n",
       "2017-08-06    91\n",
       "Name: rideID, Length: 482, dtype: int64"
      ]
     },
     "execution_count": 51,
     "metadata": {},
     "output_type": "execute_result"
    }
   ],
   "source": [
    "open_df.groupby(\"date\")[\"rideID\"].nunique().sort_values()"
   ]
  },
  {
   "cell_type": "code",
   "execution_count": null,
   "metadata": {},
   "outputs": [],
   "source": []
  }
 ],
 "metadata": {
  "kernelspec": {
   "display_name": "Python 3 (ipykernel)",
   "language": "python",
   "name": "python3"
  },
  "language_info": {
   "codemirror_mode": {
    "name": "ipython",
    "version": 3
   },
   "file_extension": ".py",
   "mimetype": "text/x-python",
   "name": "python",
   "nbconvert_exporter": "python",
   "pygments_lexer": "ipython3",
   "version": "3.10.10"
  }
 },
 "nbformat": 4,
 "nbformat_minor": 2
}
